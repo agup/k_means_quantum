{
 "cells": [
  {
   "cell_type": "code",
   "execution_count": 1,
   "metadata": {
    "collapsed": true
   },
   "outputs": [],
   "source": [
    "import sys\n",
    "if sys.version_info < (3,5):\n",
    "    raise Exception('Please use Python version 3.5 or greater.')\n",
    "    \n",
    "# useful additional packages \n",
    "import matplotlib.pyplot as plt\n",
    "import matplotlib.axes as axes\n",
    "%matplotlib inline\n",
    "import numpy as np\n",
    "from scipy import linalg as la\n",
    "from itertools import permutations\n",
    "from functools import partial\n",
    "import networkx as nx\n",
    "\n",
    "# importing the QISKit\n",
    "from qiskit import QuantumCircuit, QuantumProgram\n",
    "#import Qconfig\n",
    "\n",
    "# import basic plot tools\n",
    "from qiskit.tools.visualization import plot_histogram\n",
    "\n",
    "# import optimization tools\n",
    "from qiskit.tools.apps.optimization import trial_circuit_ry, SPSA_optimization, SPSA_calibration\n",
    "from qiskit.tools.apps.optimization import Energy_Estimate, make_Hamiltonian, eval_hamiltonian, group_paulis\n",
    "from qiskit.tools.qi.pauli import Pauli"
   ]
  },
  {
   "cell_type": "code",
   "execution_count": 8,
   "metadata": {},
   "outputs": [
    {
     "data": {
      "text/plain": [
       "[<matplotlib.lines.Line2D at 0x151c5b4c88>]"
      ]
     },
     "execution_count": 8,
     "metadata": {},
     "output_type": "execute_result"
    },
    {
     "data": {
      "image/png": "[encoded data removed]",
      "text/plain": [
       "<matplotlib.figure.Figure at 0x151c446160>"
      ]
     },
     "metadata": {},
     "output_type": "display_data"
    }
   ],
   "source": [
    "# generate n samples w.r.t bivariate Gaussian\n",
    "n = 16\n",
    "\n",
    "\n",
    "mean = [0.0, 0.0]\n",
    "cov = [[1.0, 0], [0, 1.0]]\n",
    "X = np.random.multivariate_normal(mean, cov, (2, n))\n",
    "X = X[:, :, 0]\n",
    "plt.plot(X[0], X[1],'ro')"
   ]
  },
  {
   "cell_type": "markdown",
   "metadata": {},
   "source": [
    "generate weight matrix, element at [i,j] is the distance from ith vertex to jth vertex"
   ]
  },
  {
   "cell_type": "code",
   "execution_count": 9,
   "metadata": {},
   "outputs": [
    {
     "name": "stdout",
     "output_type": "stream",
     "text": [
      "[[0.         1.27324424 1.69400229 1.27563589 3.32805571 2.56086552\n",
      "  2.32592536 3.29326593 2.15400452 1.80646697 2.33382116 2.32569404\n",
      "  0.35950083 1.5563883  2.80204363 1.52805957]\n",
      " [1.27324424 0.         2.54203063 2.20304356 2.79711273 2.29372675\n",
      "  1.94630052 3.37909796 2.34929485 0.88286116 2.0730919  1.96703465\n",
      "  1.29813501 1.34870071 2.44774045 2.10970343]\n",
      " [1.69400229 2.54203063 0.         0.42294818 2.95004488 2.07361531\n",
      "  2.0942069  2.12269699 1.23634536 2.4842834  1.94370169 2.0671102\n",
      "  1.39924957 1.6620636  2.33800858 0.5798437 ]\n",
      " [1.27563589 2.20304356 0.42294818 0.         3.01266047 2.13304418\n",
      "  2.07976697 2.3967406  1.37848475 2.26147972 1.96605014 2.05869952\n",
      "  0.99669437 1.51446092 2.40345459 0.59617711]\n",
      " [3.32805571 2.79711273 2.95004488 3.01266047 0.         0.88131215\n",
      "  1.00638458 1.59769081 1.72591626 1.93123787 1.05596724 1.01183751\n",
      "  3.0256277  1.77207578 0.61278218 2.42916651]\n",
      " [2.56086552 2.29372675 2.07361531 2.13304418 0.88131215 0.\n",
      "  0.3668064  1.22229303 0.86874334 1.54682784 0.23276087 0.337174\n",
      "  2.23295721 1.03841976 0.27049629 1.54788801]\n",
      " [2.32592536 1.94630052 2.0942069  2.07976697 1.00638458 0.3668064\n",
      "  0.         1.57735992 1.00006683 1.18060438 0.22026221 0.03823019\n",
      "  2.01942638 0.77017797 0.50832066 1.52966581]\n",
      " [3.29326593 3.37909796 2.12269699 2.3967406  1.59769081 1.22229303\n",
      "  1.57735992 0.         1.13959085 2.7301704  1.37966672 1.54265416\n",
      "  2.93435385 2.03247742 1.25995207 1.85362747]\n",
      " [2.15400452 2.34929485 1.23634536 1.37848475 1.72591626 0.86874334\n",
      "  1.00006683 1.13959085 0.         1.86656692 0.79959293 0.96461112\n",
      "  1.79539559 1.02711185 1.12003421 0.78636666]\n",
      " [1.80646697 0.88286116 2.4842834  2.26147972 1.93123787 1.54682784\n",
      "  1.18060438 2.7301704  1.86656692 0.         1.35501743 1.20973536\n",
      "  1.65084161 0.87688953 1.64897379 1.93734892]\n",
      " [2.33382116 2.0730919  1.94370169 1.96605014 1.05596724 0.23276087\n",
      "  0.22026221 1.37966672 0.79959293 1.35501743 0.         0.18203221\n",
      "  2.00982974 0.80568534 0.4724824  1.39476175]\n",
      " [2.32569404 1.96703465 2.0671102  2.05869952 1.01183751 0.337174\n",
      "  0.03823019 1.54265416 0.96461112 1.20973536 0.18203221 0.\n",
      "  2.01593104 0.77185516 0.4954108  1.50472404]\n",
      " [0.35950083 1.29813501 1.39924957 0.99669437 3.0256277  2.23295721\n",
      "  2.01942638 2.93435385 1.79539559 1.65084161 2.00982974 2.01593104\n",
      "  0.         1.25818275 2.48122557 1.17778207]\n",
      " [1.5563883  1.34870071 1.6620636  1.51446092 1.77207578 1.03841976\n",
      "  0.77017797 2.03247742 1.02711185 0.87688953 0.80568534 0.77185516\n",
      "  1.25818275 0.         1.25860761 1.09181065]\n",
      " [2.80204363 2.44774045 2.33800858 2.40345459 0.61278218 0.27049629\n",
      "  0.50832066 1.25995207 1.12003421 1.64897379 0.4724824  0.4954108\n",
      "  2.48122557 1.25860761 0.         1.81746132]\n",
      " [1.52805957 2.10970343 0.5798437  0.59617711 2.42916651 1.54788801\n",
      "  1.52966581 1.85362747 0.78636666 1.93734892 1.39476175 1.50472404\n",
      "  1.17778207 1.09181065 1.81746132 0.        ]]\n"
     ]
    }
   ],
   "source": [
    "w = np.zeros((n,n))\n",
    "for i in range(n):\n",
    "    for j in range(n):\n",
    "        if i == j:\n",
    "            pass\n",
    "        elif j > i: # upper right triangle\n",
    "            w[i][j] = la.norm(X[:, i] - X[:, j])\n",
    "        else:\n",
    "            w[i][j] = w[j][i]\n",
    "print(w)"
   ]
  },
  {
   "cell_type": "markdown",
   "metadata": {},
   "source": [
    "here we generate all possible of cluster result of all points and examine their cost"
   ]
  },
  {
   "cell_type": "code",
   "execution_count": 10,
   "metadata": {
    "collapsed": true
   },
   "outputs": [],
   "source": [
    "# Q = X^T X\n",
    "Q = np.dot(X.T, X)"
   ]
  },
  {
   "cell_type": "code",
   "execution_count": 11,
   "metadata": {},
   "outputs": [
    {
     "name": "stdout",
     "output_type": "stream",
     "text": [
      "minimum cost -211.37806088828444\n",
      "best cluster [ 1  1  1  1 -1 -1 -1 -1 -1  1 -1 -1  1  1 -1  1]\n"
     ]
    }
   ],
   "source": [
    "best_brute_force = 0\n",
    "for b in range(2**n):\n",
    "    # generate possible candidates\n",
    "    s = [int(t) for t in reversed(list(bin(b)[2:].zfill(n)))]\n",
    "    s = np.array(s)\n",
    "    # the cost function in paper labels vertex with 1 and -1\n",
    "    s[s == 0] = -1\n",
    "    \"\"\"\n",
    "    calculate cost: there are three part of it\n",
    "    first: sum Q[i][j] * s[i] * s[j]\n",
    "    second: sum Q[n][j] * s[j]\n",
    "    third: Q[n][n], constant, ignored\n",
    "    # first part\n",
    "    cost_1st_part = np.dot(np.dot(s, Q), s.T)\n",
    "    # second part\n",
    "    cost_2nd_part = 2 * np.dot(Q[n-1 ,:], s.T)\n",
    "    \n",
    "    cost = cost_1st_part + cost_2nd_part\n",
    "    \"\"\"\n",
    "    cost = np.dot(np.dot(s, Q), s.T)\n",
    "    # I did not time -1 for each cost, hence take max\n",
    "    if best_brute_force < cost:\n",
    "        best_brute_force = cost\n",
    "        s_best = s\n",
    "\n",
    "print('minimum cost', -1 * best_brute_force)\n",
    "print('best cluster', s_best)"
   ]
  },
  {
   "cell_type": "markdown",
   "metadata": {},
   "source": [
    "visualize cluster"
   ]
  },
  {
   "cell_type": "code",
   "execution_count": 12,
   "metadata": {},
   "outputs": [
    {
     "data": {
      "text/plain": [
       "<matplotlib.collections.PathCollection at 0x151c67ae10>"
      ]
     },
     "execution_count": 12,
     "metadata": {},
     "output_type": "execute_result"
    },
    {
     "data": {
      "image/png": "[encoded data removed]",
      "text/plain": [
       "<matplotlib.figure.Figure at 0x151c5e6198>"
      ]
     },
     "metadata": {},
     "output_type": "display_data"
    }
   ],
   "source": [
    "# generate color sequence\n",
    "colors = []\n",
    "for i in range(n):\n",
    "    if s_best[i] == 1:\n",
    "        colors.append('r')\n",
    "    else:\n",
    "        colors.append('b')\n",
    "\n",
    "plt.scatter(X[0], X[1], \n",
    "            c = colors, \n",
    "            marker = 'o')"
   ]
  },
  {
   "cell_type": "markdown",
   "metadata": {},
   "source": [
    "The possible clusters might be splitted by line y = 0 or x = 0 \n",
    "because of the way I generated the data. This is consistent with what is introduced in papar."
   ]
  },
  {
   "cell_type": "code",
   "execution_count": null,
   "metadata": {
    "collapsed": true
   },
   "outputs": [],
   "source": []
  }
 ],
 "metadata": {
  "kernelspec": {
   "display_name": "Python 3",
   "language": "python",
   "name": "python3"
  },
  "language_info": {
   "codemirror_mode": {
    "name": "ipython",
    "version": 3
   },
   "file_extension": ".py",
   "mimetype": "text/x-python",
   "name": "python",
   "nbconvert_exporter": "python",
   "pygments_lexer": "ipython3",
   "version": "3.6.3"
  }
 },
 "nbformat": 4,
 "nbformat_minor": 2
}
