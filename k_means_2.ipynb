{
 "cells": [
  {
   "cell_type": "code",
   "execution_count": 2,
   "metadata": {
    "collapsed": false
   },
   "outputs": [],
   "source": [
    "import sys\n",
    "if sys.version_info < (3,5):\n",
    "    raise Exception('Please use Python version 3.5 or greater.')\n",
    "    \n",
    "# useful additional packages \n",
    "import matplotlib.pyplot as plt\n",
    "import matplotlib.axes as axes\n",
    "%matplotlib inline\n",
    "import numpy as np\n",
    "from scipy import linalg as la\n",
    "from itertools import permutations\n",
    "from functools import partial\n",
    "import networkx as nx\n",
    "\n",
    "# importing the QISKit\n",
    "from qiskit import QuantumCircuit, QuantumProgram\n",
    "#import Qconfig\n",
    "\n",
    "# import basic plot tools\n",
    "from qiskit.tools.visualization import plot_histogram\n",
    "\n",
    "# import optimization tools\n",
    "from qiskit.tools.apps.optimization import trial_circuit_ry, SPSA_optimization, SPSA_calibration\n",
    "from qiskit.tools.apps.optimization import Energy_Estimate, make_Hamiltonian, eval_hamiltonian, group_paulis\n",
    "from qiskit.tools.qi.pauli import Pauli"
   ]
  },
  {
   "cell_type": "code",
   "execution_count": 29,
   "metadata": {
    "collapsed": false
   },
   "outputs": [],
   "source": [
    "n = 8 # number of data points to cluster\n",
    "\n",
    "#contain the sample distances between data points\n",
    "distance_dict = {}\n",
    "distance_dict['plus'] = [0, 3, 4, 6]\n",
    "distance_dict['minus'] = [2, 5, 7, 1]\n",
    "\n",
    "\n",
    "dist_mat = np.zeros((8,8))\n",
    "for i in range(0, 8):\n",
    "    for j in range(0,8):\n",
    "        if i == j :\n",
    "            dist_mat[i, j] = 0\n",
    "        elif i in distance_dict['plus']:\n",
    "            for node in distance_dict['plus']:\n",
    "                dist_mat[i, node] = 0.1\n",
    "                dist_mat[i, i] = 0.\n",
    "            for node in distance_dict['minus']:\n",
    "                dist_mat[i, node] = 0.8\n",
    "        elif i in distance_dict['minus']:\n",
    "            for node in distance_dict['plus']:\n",
    "                dist_mat[i, node] = 0.8\n",
    "            for node in distance_dict['minus']:\n",
    "                dist_mat[i, node] = 0.1\n",
    "                dist_mat[i, i] = 0."
   ]
  },
  {
   "cell_type": "code",
   "execution_count": 30,
   "metadata": {
    "collapsed": false
   },
   "outputs": [
    {
     "data": {
      "text/plain": [
       "array([[0. , 0.8, 0.8, 0.1, 0.1, 0.8, 0.1, 0.8],\n",
       "       [0.8, 0. , 0.1, 0.8, 0.8, 0.1, 0.8, 0.1],\n",
       "       [0.8, 0.1, 0. , 0.8, 0.8, 0.1, 0.8, 0.1],\n",
       "       [0.1, 0.8, 0.8, 0. , 0.1, 0.8, 0.1, 0.8],\n",
       "       [0.1, 0.8, 0.8, 0.1, 0. , 0.8, 0.1, 0.8],\n",
       "       [0.8, 0.1, 0.1, 0.8, 0.8, 0. , 0.8, 0.1],\n",
       "       [0.1, 0.8, 0.8, 0.1, 0.1, 0.8, 0. , 0.8],\n",
       "       [0.8, 0.1, 0.1, 0.8, 0.8, 0.1, 0.8, 0. ]])"
      ]
     },
     "execution_count": 30,
     "metadata": {},
     "output_type": "execute_result"
    }
   ],
   "source": [
    "dist_mat"
   ]
  },
  {
   "cell_type": "code",
   "execution_count": 8,
   "metadata": {
    "collapsed": false
   },
   "outputs": [
    {
     "name": "stderr",
     "output_type": "stream",
     "text": [
      "/Users/arushigupta/anaconda/lib/python3.6/site-packages/networkx/drawing/nx_pylab.py:522: MatplotlibDeprecationWarning: The is_string_like function was deprecated in version 2.1.\n",
      "  if not cb.is_string_like(edge_color) \\\n",
      "/Users/arushigupta/anaconda/lib/python3.6/site-packages/networkx/drawing/nx_pylab.py:543: MatplotlibDeprecationWarning: The is_string_like function was deprecated in version 2.1.\n",
      "  if cb.is_string_like(edge_color) or len(edge_color) == 1:\n",
      "/Users/arushigupta/anaconda/lib/python3.6/site-packages/networkx/drawing/nx_pylab.py:724: MatplotlibDeprecationWarning: The is_string_like function was deprecated in version 2.1.\n",
      "  if not cb.is_string_like(label):\n"
     ]
    },
    {
     "data": {
      "image/png": "[encoded data removed]",
      "text/plain": [
       "<matplotlib.figure.Figure at 0x1131284a8>"
      ]
     },
     "metadata": {},
     "output_type": "display_data"
    }
   ],
   "source": [
    "\n",
    "\n",
    "G=nx.Graph()\n",
    "#add nodes to the graph\n",
    "G.add_nodes_from(np.arange(0,n,1))\n",
    "\n",
    "elist=[(0,1,1.0),(0,2,1.0),(0,3,1.0),(1,2,1.0),(2,3,1.0)]\n",
    "# tuple is (i,j,weight) where (i,j) is the edge\n",
    "G.add_weighted_edges_from(elist)\n",
    "colors = ['r' for node in G.nodes()]\n",
    "default_axes = plt.axes(frameon=True)\n",
    "default_axes.set_xlim(-0.1,1.1)\n",
    "default_axes.set_ylim(-0.1,1.1)\n",
    "nx.draw_networkx(G, node_color=colors, node_size=600, alpha=.8, ax=default_axes)"
   ]
  },
  {
   "cell_type": "code",
   "execution_count": null,
   "metadata": {
    "collapsed": true
   },
   "outputs": [],
   "source": []
  }
 ],
 "metadata": {
  "kernelspec": {
   "display_name": "Python 3",
   "language": "python",
   "name": "python3"
  },
  "language_info": {
   "codemirror_mode": {
    "name": "ipython",
    "version": 3
   },
   "file_extension": ".py",
   "mimetype": "text/x-python",
   "name": "python",
   "nbconvert_exporter": "python",
   "pygments_lexer": "ipython3",
   "version": "3.6.0"
  }
 },
 "nbformat": 4,
 "nbformat_minor": 2
}
