{
 "cells": [
  {
   "cell_type": "code",
   "execution_count": 10,
   "metadata": {
    "collapsed": false
   },
   "outputs": [],
   "source": [
    "import sys\n",
    "import numpy as np\n",
    "if sys.version_info < (3,5):\n",
    "    raise Exception('Please use Python version 3.5 or greater.')\n",
    "    \n",
    "# useful additional packages \n",
    "import matplotlib.pyplot as plt\n",
    "import matplotlib.axes as axes\n",
    "%matplotlib inline\n",
    "import numpy as np\n",
    "from scipy import linalg as la\n",
    "from itertools import permutations\n",
    "from functools import partial\n",
    "import networkx as nx\n",
    "\n",
    "# importing the QISKit\n",
    "from qiskit import QuantumCircuit, QuantumProgram\n",
    "#import Qconfig\n",
    "\n",
    "# import basic plot tools\n",
    "from qiskit.tools.visualization import plot_histogram\n",
    "\n",
    "# import optimization tools\n",
    "from qiskit.tools.apps.optimization import trial_circuit_ry, SPSA_optimization, SPSA_calibration\n",
    "from qiskit.tools.apps.optimization import Energy_Estimate, make_Hamiltonian, eval_hamiltonian, group_paulis\n",
    "from qiskit.tools.qi.pauli import Pauli"
   ]
  },
  {
   "cell_type": "code",
   "execution_count": 11,
   "metadata": {
    "collapsed": false
   },
   "outputs": [],
   "source": [
    "n = 8 # number of data points to cluster\n",
    "\n",
    "#contain the sample distances between data points\n",
    "distance_dict = {}\n",
    "distance_dict['plus'] = [0, 3, 4, 6]\n",
    "distance_dict['minus'] = [2, 5, 7, 1]\n",
    "\n",
    "\n",
    "dist_mat = np.zeros((8,8))\n",
    "for i in range(0, 8):\n",
    "    for j in range(0,8):\n",
    "        if i == j :\n",
    "            dist_mat[i, j] = 0\n",
    "        elif i in distance_dict['plus']:\n",
    "            for node in distance_dict['plus']:\n",
    "                dist_mat[i, node] = 0.1\n",
    "                dist_mat[i, i] = 0.\n",
    "            for node in distance_dict['minus']:\n",
    "                dist_mat[i, node] = 0.8\n",
    "        elif i in distance_dict['minus']:\n",
    "            for node in distance_dict['plus']:\n",
    "                dist_mat[i, node] = 0.8\n",
    "            for node in distance_dict['minus']:\n",
    "                dist_mat[i, node] = 0.1\n",
    "                dist_mat[i, i] = 0."
   ]
  },
  {
   "cell_type": "code",
   "execution_count": 12,
   "metadata": {
    "collapsed": false
   },
   "outputs": [
    {
     "data": {
      "text/plain": [
       "array([[0. , 0.8, 0.8, 0.1, 0.1, 0.8, 0.1, 0.8],\n",
       "       [0.8, 0. , 0.1, 0.8, 0.8, 0.1, 0.8, 0.1],\n",
       "       [0.8, 0.1, 0. , 0.8, 0.8, 0.1, 0.8, 0.1],\n",
       "       [0.1, 0.8, 0.8, 0. , 0.1, 0.8, 0.1, 0.8],\n",
       "       [0.1, 0.8, 0.8, 0.1, 0. , 0.8, 0.1, 0.8],\n",
       "       [0.8, 0.1, 0.1, 0.8, 0.8, 0. , 0.8, 0.1],\n",
       "       [0.1, 0.8, 0.8, 0.1, 0.1, 0.8, 0. , 0.8],\n",
       "       [0.8, 0.1, 0.1, 0.8, 0.8, 0.1, 0.8, 0. ]])"
      ]
     },
     "execution_count": 12,
     "metadata": {},
     "output_type": "execute_result"
    }
   ],
   "source": [
    "dist_mat"
   ]
  },
  {
   "cell_type": "code",
   "execution_count": 13,
   "metadata": {
    "collapsed": false
   },
   "outputs": [
    {
     "name": "stderr",
     "output_type": "stream",
     "text": [
      "/Users/arushigupta/anaconda/lib/python3.6/site-packages/networkx/drawing/nx_pylab.py:522: MatplotlibDeprecationWarning: The is_string_like function was deprecated in version 2.1.\n",
      "  if not cb.is_string_like(edge_color) \\\n",
      "/Users/arushigupta/anaconda/lib/python3.6/site-packages/networkx/drawing/nx_pylab.py:543: MatplotlibDeprecationWarning: The is_string_like function was deprecated in version 2.1.\n",
      "  if cb.is_string_like(edge_color) or len(edge_color) == 1:\n",
      "/Users/arushigupta/anaconda/lib/python3.6/site-packages/networkx/drawing/nx_pylab.py:724: MatplotlibDeprecationWarning: The is_string_like function was deprecated in version 2.1.\n",
      "  if not cb.is_string_like(label):\n"
     ]
    },
    {
     "data": {
      "image/png": "[encoded data removed]",
      "text/plain": [
       "<matplotlib.figure.Figure at 0x10918c9e8>"
      ]
     },
     "metadata": {},
     "output_type": "display_data"
    }
   ],
   "source": [
    "\n",
    "\n",
    "G=nx.Graph()\n",
    "#add nodes to the graph\n",
    "G.add_nodes_from(np.arange(0,n,1))\n",
    "\n",
    "elist=[(0,1,1.0),(0,2,1.0),(0,3,1.0),(1,2,1.0),(2,3,1.0)]\n",
    "# tuple is (i,j,weight) where (i,j) is the edge\n",
    "G.add_weighted_edges_from(elist)\n",
    "colors = ['r' for node in G.nodes()]\n",
    "default_axes = plt.axes(frameon=True)\n",
    "default_axes.set_xlim(-0.1,1.1)\n",
    "default_axes.set_ylim(-0.1,1.1)\n",
    "nx.draw_networkx(G, node_color=colors, node_size=600, alpha=.8, ax=default_axes)"
   ]
  },
  {
   "cell_type": "code",
   "execution_count": 21,
   "metadata": {
    "collapsed": false
   },
   "outputs": [],
   "source": [
    "X_matr = np.random.rand(2, n)"
   ]
  },
  {
   "cell_type": "code",
   "execution_count": null,
   "metadata": {
    "collapsed": false
   },
   "outputs": [],
   "source": []
  },
  {
   "cell_type": "code",
   "execution_count": null,
   "metadata": {
    "collapsed": false
   },
   "outputs": [],
   "source": []
  },
  {
   "cell_type": "code",
   "execution_count": null,
   "metadata": {
    "collapsed": false
   },
   "outputs": [],
   "source": []
  },
  {
   "cell_type": "code",
   "execution_count": 16,
   "metadata": {
    "collapsed": false
   },
   "outputs": [],
   "source": [
    "pauli_list = []\n",
    "for i in range(0, n):\n",
    "    \n",
    "    w = np.zeros(n)\n",
    "    v = np.zeros(n)\n",
    "    #w needs to always be 0\n",
    "    v[i] = 1\n",
    "    pauli_list.append((-1, Pauli(v, w)))"
   ]
  },
  {
   "cell_type": "code",
   "execution_count": 17,
   "metadata": {
    "collapsed": true
   },
   "outputs": [],
   "source": [
    "HB = make_Hamiltonian(pauli_list)"
   ]
  },
  {
   "cell_type": "code",
   "execution_count": 18,
   "metadata": {
    "collapsed": false
   },
   "outputs": [
    {
     "data": {
      "text/plain": [
       "array([[-8.+0.j,  0.+0.j,  0.+0.j, ...,  0.+0.j,  0.+0.j,  0.+0.j],\n",
       "       [ 0.+0.j, -6.+0.j,  0.+0.j, ...,  0.+0.j,  0.+0.j,  0.+0.j],\n",
       "       [ 0.+0.j,  0.+0.j, -6.+0.j, ...,  0.+0.j,  0.+0.j,  0.+0.j],\n",
       "       ...,\n",
       "       [ 0.+0.j,  0.+0.j,  0.+0.j, ...,  6.+0.j,  0.+0.j,  0.+0.j],\n",
       "       [ 0.+0.j,  0.+0.j,  0.+0.j, ...,  0.+0.j,  6.+0.j,  0.+0.j],\n",
       "       [ 0.+0.j,  0.+0.j,  0.+0.j, ...,  0.+0.j,  0.+0.j,  8.+0.j]])"
      ]
     },
     "execution_count": 18,
     "metadata": {},
     "output_type": "execute_result"
    }
   ],
   "source": [
    "HB"
   ]
  },
  {
   "cell_type": "code",
   "execution_count": 26,
   "metadata": {
    "collapsed": false
   },
   "outputs": [],
   "source": [
    "Q = np.matmul(np.transpose(X_matr),X_matr)"
   ]
  },
  {
   "cell_type": "code",
   "execution_count": 27,
   "metadata": {
    "collapsed": false
   },
   "outputs": [
    {
     "data": {
      "text/plain": [
       "array([[0.64631747, 0.06747786, 0.64777548, 0.09408699, 0.481392  ,\n",
       "        0.82527245, 0.53783323, 0.28419709],\n",
       "       [0.06747786, 0.22086991, 0.315031  , 0.45948524, 0.14220588,\n",
       "        0.44515736, 0.4048715 , 0.10422546],\n",
       "       [0.64777548, 0.315031  , 0.93548592, 0.61456984, 0.58886278,\n",
       "        1.24250159, 0.94252415, 0.37109938],\n",
       "       [0.09408699, 0.45948524, 0.61456984, 0.95931167, 0.2634373 ,\n",
       "        0.87508704, 0.81163314, 0.19815523],\n",
       "       [0.481392  , 0.14220588, 0.58886278, 0.2634373 , 0.39808979,\n",
       "        0.76905353, 0.55054339, 0.24373554],\n",
       "       [0.82527245, 0.44515736, 1.24250159, 0.87508704, 0.76905353,\n",
       "        1.65650427, 1.2722248 , 0.4880577 ],\n",
       "       [0.53783323, 0.4048715 , 0.94252415, 0.81163314, 0.55054339,\n",
       "        1.2722248 , 1.01627313, 0.35808266],\n",
       "       [0.28419709, 0.10422546, 0.37109938, 0.19815523, 0.24373554,\n",
       "        0.4880577 , 0.35808266, 0.15096124]])"
      ]
     },
     "execution_count": 27,
     "metadata": {},
     "output_type": "execute_result"
    }
   ],
   "source": [
    "Q"
   ]
  },
  {
   "cell_type": "code",
   "execution_count": null,
   "metadata": {
    "collapsed": true
   },
   "outputs": [],
   "source": [
    "pauli_list = []\n",
    "for i in range(0, n):\n",
    "    for j in range(0, i):\n",
    "    \n",
    "    w = np.zeros(n)\n",
    "    v = np.zeros(n)\n",
    "    #w needs to always be 0\n",
    "    v[i] = 1\n",
    "    pauli_list.append((-1, Pauli(v, w)))"
   ]
  }
 ],
 "metadata": {
  "kernelspec": {
   "display_name": "Python 3",
   "language": "python",
   "name": "python3"
  },
  "language_info": {
   "codemirror_mode": {
    "name": "ipython",
    "version": 3
   },
   "file_extension": ".py",
   "mimetype": "text/x-python",
   "name": "python",
   "nbconvert_exporter": "python",
   "pygments_lexer": "ipython3",
   "version": "3.6.0"
  }
 },
 "nbformat": 4,
 "nbformat_minor": 2
}
