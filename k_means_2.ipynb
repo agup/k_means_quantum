{
 "cells": [
  {
   "cell_type": "code",
   "execution_count": 34,
   "metadata": {
    "collapsed": false
   },
   "outputs": [],
   "source": [
    "import sys\n",
    "import numpy as np\n",
    "if sys.version_info < (3,5):\n",
    "    raise Exception('Please use Python version 3.5 or greater.')\n",
    "    \n",
    "# useful additional packages \n",
    "import matplotlib.pyplot as plt\n",
    "import matplotlib.axes as axes\n",
    "%matplotlib inline\n",
    "import numpy as np\n",
    "from scipy import linalg as la\n",
    "from itertools import permutations\n",
    "from functools import partial\n",
    "import networkx as nx\n",
    "\n",
    "# importing the QISKit\n",
    "from qiskit import QuantumCircuit, QuantumProgram\n",
    "#import Qconfig\n",
    "\n",
    "# import basic plot tools\n",
    "from qiskit.tools.visualization import plot_histogram\n",
    "\n",
    "# import optimization tools\n",
    "from qiskit.tools.apps.optimization import trial_circuit_ry, SPSA_optimization, SPSA_calibration\n",
    "from qiskit.tools.apps.optimization import Energy_Estimate, make_Hamiltonian, eval_hamiltonian, group_paulis\n",
    "from qiskit.tools.qi.pauli import Pauli"
   ]
  },
  {
   "cell_type": "code",
   "execution_count": 35,
   "metadata": {
    "collapsed": false
   },
   "outputs": [],
   "source": [
    "n = 8 # number of data points to cluster\n",
    "\n",
    "#contain the sample distances between data points\n",
    "distance_dict = {}\n",
    "distance_dict['plus'] = [0, 3, 4, 6]\n",
    "distance_dict['minus'] = [2, 5, 7, 1]\n",
    "\n",
    "\n",
    "dist_mat = np.zeros((8,8))\n",
    "for i in range(0, 8):\n",
    "    for j in range(0,8):\n",
    "        if i == j :\n",
    "            dist_mat[i, j] = 0\n",
    "        elif i in distance_dict['plus']:\n",
    "            for node in distance_dict['plus']:\n",
    "                dist_mat[i, node] = 0.1\n",
    "                dist_mat[i, i] = 0.\n",
    "            for node in distance_dict['minus']:\n",
    "                dist_mat[i, node] = 0.8\n",
    "        elif i in distance_dict['minus']:\n",
    "            for node in distance_dict['plus']:\n",
    "                dist_mat[i, node] = 0.8\n",
    "            for node in distance_dict['minus']:\n",
    "                dist_mat[i, node] = 0.1\n",
    "                dist_mat[i, i] = 0."
   ]
  },
  {
   "cell_type": "code",
   "execution_count": 36,
   "metadata": {
    "collapsed": false
   },
   "outputs": [
    {
     "data": {
      "text/plain": [
       "array([[0. , 0.8, 0.8, 0.1, 0.1, 0.8, 0.1, 0.8],\n",
       "       [0.8, 0. , 0.1, 0.8, 0.8, 0.1, 0.8, 0.1],\n",
       "       [0.8, 0.1, 0. , 0.8, 0.8, 0.1, 0.8, 0.1],\n",
       "       [0.1, 0.8, 0.8, 0. , 0.1, 0.8, 0.1, 0.8],\n",
       "       [0.1, 0.8, 0.8, 0.1, 0. , 0.8, 0.1, 0.8],\n",
       "       [0.8, 0.1, 0.1, 0.8, 0.8, 0. , 0.8, 0.1],\n",
       "       [0.1, 0.8, 0.8, 0.1, 0.1, 0.8, 0. , 0.8],\n",
       "       [0.8, 0.1, 0.1, 0.8, 0.8, 0.1, 0.8, 0. ]])"
      ]
     },
     "execution_count": 36,
     "metadata": {},
     "output_type": "execute_result"
    }
   ],
   "source": [
    "dist_mat"
   ]
  },
  {
   "cell_type": "code",
   "execution_count": 37,
   "metadata": {
    "collapsed": false
   },
   "outputs": [
    {
     "name": "stderr",
     "output_type": "stream",
     "text": [
      "/Users/arushigupta/anaconda/lib/python3.6/site-packages/networkx/drawing/nx_pylab.py:522: MatplotlibDeprecationWarning: The is_string_like function was deprecated in version 2.1.\n",
      "  if not cb.is_string_like(edge_color) \\\n",
      "/Users/arushigupta/anaconda/lib/python3.6/site-packages/networkx/drawing/nx_pylab.py:543: MatplotlibDeprecationWarning: The is_string_like function was deprecated in version 2.1.\n",
      "  if cb.is_string_like(edge_color) or len(edge_color) == 1:\n",
      "/Users/arushigupta/anaconda/lib/python3.6/site-packages/networkx/drawing/nx_pylab.py:724: MatplotlibDeprecationWarning: The is_string_like function was deprecated in version 2.1.\n",
      "  if not cb.is_string_like(label):\n"
     ]
    },
    {
     "data": {
      "image/png": "[encoded data removed]",
      "text/plain": [
       "<matplotlib.figure.Figure at 0x1173dba90>"
      ]
     },
     "metadata": {},
     "output_type": "display_data"
    }
   ],
   "source": [
    "\n",
    "\n",
    "G=nx.Graph()\n",
    "#add nodes to the graph\n",
    "G.add_nodes_from(np.arange(0,n,1))\n",
    "\n",
    "elist=[(0,1,1.0),(0,2,1.0),(0,3,1.0),(1,2,1.0),(2,3,1.0)]\n",
    "# tuple is (i,j,weight) where (i,j) is the edge\n",
    "G.add_weighted_edges_from(elist)\n",
    "colors = ['r' for node in G.nodes()]\n",
    "default_axes = plt.axes(frameon=True)\n",
    "default_axes.set_xlim(-0.1,1.1)\n",
    "default_axes.set_ylim(-0.1,1.1)\n",
    "nx.draw_networkx(G, node_color=colors, node_size=600, alpha=.8, ax=default_axes)"
   ]
  },
  {
   "cell_type": "code",
   "execution_count": 38,
   "metadata": {
    "collapsed": false
   },
   "outputs": [],
   "source": [
    "X_matr = np.random.rand(2, n)"
   ]
  },
  {
   "cell_type": "code",
   "execution_count": null,
   "metadata": {
    "collapsed": false
   },
   "outputs": [],
   "source": []
  },
  {
   "cell_type": "code",
   "execution_count": null,
   "metadata": {
    "collapsed": false
   },
   "outputs": [],
   "source": []
  },
  {
   "cell_type": "code",
   "execution_count": null,
   "metadata": {
    "collapsed": false
   },
   "outputs": [],
   "source": []
  },
  {
   "cell_type": "code",
   "execution_count": 39,
   "metadata": {
    "collapsed": false
   },
   "outputs": [],
   "source": [
    "#Pauli takes things in reverse order!\n",
    "pauli_list = []\n",
    "for i in range(0, n):\n",
    "    \n",
    "    w = np.zeros(n)\n",
    "    v = np.zeros(n)\n",
    "    #w needs to always be 0\n",
    "    v[n-i-1] = 1\n",
    "    pauli_list.append((-1, Pauli(v, w)))"
   ]
  },
  {
   "cell_type": "code",
   "execution_count": 40,
   "metadata": {
    "collapsed": false
   },
   "outputs": [
    {
     "data": {
      "text/plain": [
       "<qiskit.tools.qi.pauli.Pauli at 0x11738f940>"
      ]
     },
     "execution_count": 40,
     "metadata": {},
     "output_type": "execute_result"
    }
   ],
   "source": [
    "pauli_list[0][1]"
   ]
  },
  {
   "cell_type": "code",
   "execution_count": 41,
   "metadata": {
    "collapsed": true
   },
   "outputs": [],
   "source": [
    "HB = make_Hamiltonian(pauli_list)"
   ]
  },
  {
   "cell_type": "code",
   "execution_count": 42,
   "metadata": {
    "collapsed": false
   },
   "outputs": [
    {
     "data": {
      "text/plain": [
       "array([[-8.+0.j,  0.+0.j,  0.+0.j, ...,  0.+0.j,  0.+0.j,  0.+0.j],\n",
       "       [ 0.+0.j, -6.+0.j,  0.+0.j, ...,  0.+0.j,  0.+0.j,  0.+0.j],\n",
       "       [ 0.+0.j,  0.+0.j, -6.+0.j, ...,  0.+0.j,  0.+0.j,  0.+0.j],\n",
       "       ...,\n",
       "       [ 0.+0.j,  0.+0.j,  0.+0.j, ...,  6.+0.j,  0.+0.j,  0.+0.j],\n",
       "       [ 0.+0.j,  0.+0.j,  0.+0.j, ...,  0.+0.j,  6.+0.j,  0.+0.j],\n",
       "       [ 0.+0.j,  0.+0.j,  0.+0.j, ...,  0.+0.j,  0.+0.j,  8.+0.j]])"
      ]
     },
     "execution_count": 42,
     "metadata": {},
     "output_type": "execute_result"
    }
   ],
   "source": [
    "HB"
   ]
  },
  {
   "cell_type": "code",
   "execution_count": 43,
   "metadata": {
    "collapsed": false
   },
   "outputs": [],
   "source": [
    "Q = np.matmul(np.transpose(X_matr),X_matr)"
   ]
  },
  {
   "cell_type": "code",
   "execution_count": 44,
   "metadata": {
    "collapsed": false
   },
   "outputs": [
    {
     "data": {
      "text/plain": [
       "array([[0.92263206, 0.69739119, 1.0868248 , 0.62515877, 0.43129549,\n",
       "        0.59781413, 0.22295816, 0.97037613],\n",
       "       [0.69739119, 0.52761186, 0.83363493, 0.47750256, 0.34298279,\n",
       "        0.45112163, 0.17309858, 0.73962712],\n",
       "       [1.0868248 , 0.83363493, 1.59104264, 0.86352312, 0.9429118 ,\n",
       "        0.68501928, 0.37970541, 1.3005166 ],\n",
       "       [0.62515877, 0.47750256, 0.86352312, 0.4755807 , 0.47008417,\n",
       "        0.3972229 , 0.19895039, 0.72190225],\n",
       "       [0.43129549, 0.34298279, 0.9429118 , 0.47008417, 0.81005122,\n",
       "        0.25261614, 0.26802183, 0.67391148],\n",
       "       [0.59781413, 0.45112163, 0.68501928, 0.3972229 , 0.25261614,\n",
       "        0.38853415, 0.13723905, 0.61903189],\n",
       "       [0.22295816, 0.17309858, 0.37970541, 0.19895039, 0.26802183,\n",
       "        0.13723905, 0.09797473, 0.29380202],\n",
       "       [0.97037613, 0.73962712, 1.3005166 , 0.72190225, 0.67391148,\n",
       "        0.61903189, 0.29380202, 1.10035419]])"
      ]
     },
     "execution_count": 44,
     "metadata": {},
     "output_type": "execute_result"
    }
   ],
   "source": [
    "Q"
   ]
  },
  {
   "cell_type": "code",
   "execution_count": 45,
   "metadata": {
    "collapsed": false
   },
   "outputs": [],
   "source": [
    "Hp = np.zeros((256,256), dtype = 'complex128')\n",
    "for i in range(0, n):\n",
    "    for j in range(0, i):\n",
    "    \n",
    "        w = np.zeros(n)\n",
    "        v = np.zeros(n)\n",
    "        #w needs to always be 0\n",
    "        v[i] = 1\n",
    "        \n",
    "        sigzi = Pauli(v, w).to_matrix()\n",
    "        w = np.zeros(n)\n",
    "        v = np.zeros(n)\n",
    "        v[j] = 1\n",
    "        sigzj = Pauli(v, w).to_matrix()\n",
    "        #print(sigzj)\n",
    "        paul = np.matmul(sigzi, sigzj)\n",
    "        #print(np.shape(paul))\n",
    "        Hp += -1.0*Q[i,j]*paul"
   ]
  },
  {
   "cell_type": "code",
   "execution_count": 46,
   "metadata": {
    "collapsed": false
   },
   "outputs": [],
   "source": [
    "I_paul = np.eye(2)\n",
    "for i in range(0, n-1):\n",
    "    I_paul = np.kron(I_paul, np.eye(2))"
   ]
  },
  {
   "cell_type": "code",
   "execution_count": 47,
   "metadata": {
    "collapsed": true
   },
   "outputs": [],
   "source": [
    "\n",
    "for j in range(0, n-1):\n",
    "    w = np.zeros(n)\n",
    "    v = np.zeros(n)\n",
    "    v[j] = 1\n",
    "    sigzj = np.matmul( -1*2*Q[n-1, j]*Pauli(v, w).to_matrix(), I_paul)\n",
    "    Hp += sigzj"
   ]
  },
  {
   "cell_type": "code",
   "execution_count": 48,
   "metadata": {
    "collapsed": false
   },
   "outputs": [
    {
     "data": {
      "text/plain": [
       "array([[-26.49257957+0.j,   0.        +0.j,   0.        +0.j, ...,\n",
       "          0.        +0.j,   0.        +0.j,   0.        +0.j],\n",
       "       [  0.        +0.j, -13.34743773+0.j,   0.        +0.j, ...,\n",
       "          0.        +0.j,   0.        +0.j,   0.        +0.j],\n",
       "       [  0.        +0.j,   0.        +0.j, -16.1033535 +0.j, ...,\n",
       "          0.        +0.j,   0.        +0.j,   0.        +0.j],\n",
       "       ...,\n",
       "       [  0.        +0.j,   0.        +0.j,   0.        +0.j, ...,\n",
       "         -0.74370052+0.j,   0.        +0.j,   0.        +0.j],\n",
       "       [  0.        +0.j,   0.        +0.j,   0.        +0.j, ...,\n",
       "          0.        +0.j,   0.16622319+0.j,   0.        +0.j],\n",
       "       [  0.        +0.j,   0.        +0.j,   0.        +0.j, ...,\n",
       "          0.        +0.j,   0.        +0.j,  -5.21590961+0.j]])"
      ]
     },
     "execution_count": 48,
     "metadata": {},
     "output_type": "execute_result"
    }
   ],
   "source": [
    "Hp"
   ]
  },
  {
   "cell_type": "code",
   "execution_count": 49,
   "metadata": {
    "collapsed": true
   },
   "outputs": [],
   "source": [
    "entangler_map = {0: [1], 1: [2], 2: [3]} \n",
    "\n",
    "# the coupling_maps gates allowed on the device\n",
    "coupling_map = None\n",
    "# the layout of the qubits \n",
    "initial_layout = None\n",
    "\n",
    "# the backend used for the quantum computation\n",
    "backend = 'local_qasm_simulator' \n",
    "# Total number of trial steps used in the optimization\n",
    "max_trials = 100; \n",
    "n = 4 # the number of qubits \n",
    "# Depth of the quantum circuit that prepares the trial state\n",
    "m = 3     \n",
    "# initial starting point for the control angles\n",
    "initial_theta=np.random.randn(m*n)   \n",
    "# number of shots for each evaluation of the cost function (shots=1 corresponds to perfect evaluation, \n",
    "# only available on the simulator)\n",
    "shots = 1\n",
    "# choose to plot the results of the optimizations every save_steps \n",
    "save_step = 1"
   ]
  },
  {
   "cell_type": "code",
   "execution_count": null,
   "metadata": {
    "collapsed": true
   },
   "outputs": [],
   "source": []
  }
 ],
 "metadata": {
  "kernelspec": {
   "display_name": "Python 3",
   "language": "python",
   "name": "python3"
  },
  "language_info": {
   "codemirror_mode": {
    "name": "ipython",
    "version": 3
   },
   "file_extension": ".py",
   "mimetype": "text/x-python",
   "name": "python",
   "nbconvert_exporter": "python",
   "pygments_lexer": "ipython3",
   "version": "3.6.0"
  }
 },
 "nbformat": 4,
 "nbformat_minor": 2
}
