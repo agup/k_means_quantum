{
 "cells": [
  {
   "cell_type": "code",
   "execution_count": 301,
   "metadata": {
    "collapsed": false
   },
   "outputs": [],
   "source": [
    "from qutip import *\n",
    "import numpy as np\n",
    "from matplotlib import pyplot as plt\n",
    "from math import floor, ceil\n",
    "from random import shuffle"
   ]
  },
  {
   "cell_type": "code",
   "execution_count": 302,
   "metadata": {
    "collapsed": true
   },
   "outputs": [],
   "source": [
    "#Z operator \n",
    "#sigmaz()"
   ]
  },
  {
   "cell_type": "code",
   "execution_count": 303,
   "metadata": {
    "collapsed": false
   },
   "outputs": [
    {
     "data": {
      "text/latex": [
       "Quantum object: dims = [[1], [1]], shape = (1, 1), type = bra\\begin{equation*}\\left(\\begin{array}{*{11}c}0.0\\\\\\end{array}\\right)\\end{equation*}"
      ],
      "text/plain": [
       "Quantum object: dims = [[1], [1]], shape = (1, 1), type = bra\n",
       "Qobj data =\n",
       "[[0.]]"
      ]
     },
     "execution_count": 303,
     "metadata": {},
     "output_type": "execute_result"
    }
   ],
   "source": [
    "Qobj()"
   ]
  },
  {
   "cell_type": "code",
   "execution_count": null,
   "metadata": {
    "collapsed": true
   },
   "outputs": [],
   "source": []
  },
  {
   "cell_type": "code",
   "execution_count": 304,
   "metadata": {
    "collapsed": false
   },
   "outputs": [],
   "source": [
    "\n",
    "n = 8\n",
    "\n",
    "qub_dict = {}\n",
    "for i in range(1, n+1):\n",
    "    u = np.random.uniform(0, 1)\n",
    "    if u < 0.5:\n",
    "        qub_dict['q' + str(i)] = basis(2,0)\n",
    "    else:\n",
    "        qub_dict['q' + str(i)] = basis(2, 1)"
   ]
  },
  {
   "cell_type": "code",
   "execution_count": 305,
   "metadata": {
    "collapsed": false
   },
   "outputs": [
    {
     "data": {
      "text/plain": [
       "{'q1': Quantum object: dims = [[2], [1]], shape = (2, 1), type = ket\n",
       " Qobj data =\n",
       " [[1.]\n",
       "  [0.]], 'q2': Quantum object: dims = [[2], [1]], shape = (2, 1), type = ket\n",
       " Qobj data =\n",
       " [[1.]\n",
       "  [0.]], 'q3': Quantum object: dims = [[2], [1]], shape = (2, 1), type = ket\n",
       " Qobj data =\n",
       " [[1.]\n",
       "  [0.]], 'q4': Quantum object: dims = [[2], [1]], shape = (2, 1), type = ket\n",
       " Qobj data =\n",
       " [[0.]\n",
       "  [1.]], 'q5': Quantum object: dims = [[2], [1]], shape = (2, 1), type = ket\n",
       " Qobj data =\n",
       " [[0.]\n",
       "  [1.]], 'q6': Quantum object: dims = [[2], [1]], shape = (2, 1), type = ket\n",
       " Qobj data =\n",
       " [[1.]\n",
       "  [0.]], 'q7': Quantum object: dims = [[2], [1]], shape = (2, 1), type = ket\n",
       " Qobj data =\n",
       " [[1.]\n",
       "  [0.]], 'q8': Quantum object: dims = [[2], [1]], shape = (2, 1), type = ket\n",
       " Qobj data =\n",
       " [[1.]\n",
       "  [0.]]}"
      ]
     },
     "execution_count": 305,
     "metadata": {},
     "output_type": "execute_result"
    }
   ],
   "source": [
    "qub_dict"
   ]
  },
  {
   "cell_type": "code",
   "execution_count": null,
   "metadata": {
    "collapsed": false
   },
   "outputs": [],
   "source": []
  },
  {
   "cell_type": "code",
   "execution_count": null,
   "metadata": {
    "collapsed": true
   },
   "outputs": [],
   "source": [
    " "
   ]
  },
  {
   "cell_type": "code",
   "execution_count": 306,
   "metadata": {
    "collapsed": false
   },
   "outputs": [],
   "source": [
    "sigx_dict = {}"
   ]
  },
  {
   "cell_type": "code",
   "execution_count": 307,
   "metadata": {
    "collapsed": true
   },
   "outputs": [],
   "source": [
    "#now we define sigx1\n",
    "\n",
    "sigx1 = sigmax() \n",
    "for i in range(2,n+1):\n",
    "    sigx1 = tensor(sigx1, qeye(2))"
   ]
  },
  {
   "cell_type": "code",
   "execution_count": 308,
   "metadata": {
    "collapsed": false
   },
   "outputs": [],
   "source": [
    "sigx_dict['sigx1']= sigx1"
   ]
  },
  {
   "cell_type": "code",
   "execution_count": null,
   "metadata": {
    "collapsed": true
   },
   "outputs": [],
   "source": []
  },
  {
   "cell_type": "code",
   "execution_count": 309,
   "metadata": {
    "collapsed": false
   },
   "outputs": [],
   "source": [
    "for i in range(1, n):\n",
    "    prod = qeye(2)\n",
    "    for j in range(1,n):\n",
    "        if j == i :\n",
    "            prod = tensor(prod, sigmax())\n",
    "        else :\n",
    "            prod = tensor( prod, qeye(2))\n",
    "    sigx_dict['sigx' + str(i+1)] = prod"
   ]
  },
  {
   "cell_type": "code",
   "execution_count": 310,
   "metadata": {
    "collapsed": false
   },
   "outputs": [
    {
     "data": {
      "text/plain": [
       "dict_keys(['sigx1', 'sigx2', 'sigx3', 'sigx4', 'sigx5', 'sigx6', 'sigx7', 'sigx8'])"
      ]
     },
     "execution_count": 310,
     "metadata": {},
     "output_type": "execute_result"
    }
   ],
   "source": [
    "sigx_dict.keys()"
   ]
  },
  {
   "cell_type": "code",
   "execution_count": null,
   "metadata": {
    "collapsed": false
   },
   "outputs": [],
   "source": []
  },
  {
   "cell_type": "code",
   "execution_count": null,
   "metadata": {
    "collapsed": false
   },
   "outputs": [],
   "source": []
  },
  {
   "cell_type": "code",
   "execution_count": 311,
   "metadata": {
    "collapsed": false
   },
   "outputs": [],
   "source": [
    "HB = 0\n",
    "for sigx in sigx_dict.keys():\n",
    "    HB += -1.0*sigx_dict[sigx]"
   ]
  },
  {
   "cell_type": "code",
   "execution_count": 312,
   "metadata": {
    "collapsed": false
   },
   "outputs": [
    {
     "data": {
      "text/latex": [
       "Quantum object: dims = [[2, 2, 2, 2, 2, 2, 2, 2], [2, 2, 2, 2, 2, 2, 2, 2]], shape = (256, 256), type = oper, isherm = True\\begin{equation*}\\left(\\begin{array}{*{11}c}0.0 & -1.0 & -1.0 & 0.0 & -1.0 & \\cdots & 0.0 & 0.0 & 0.0 & 0.0 & 0.0\\\\-1.0 & 0.0 & 0.0 & -1.0 & 0.0 & \\cdots & 0.0 & 0.0 & 0.0 & 0.0 & 0.0\\\\-1.0 & 0.0 & 0.0 & -1.0 & 0.0 & \\cdots & 0.0 & 0.0 & 0.0 & 0.0 & 0.0\\\\0.0 & -1.0 & -1.0 & 0.0 & 0.0 & \\cdots & 0.0 & 0.0 & 0.0 & 0.0 & 0.0\\\\-1.0 & 0.0 & 0.0 & 0.0 & 0.0 & \\cdots & 0.0 & 0.0 & 0.0 & 0.0 & 0.0\\\\\\vdots & \\vdots & \\vdots & \\vdots & \\vdots & \\ddots & \\vdots & \\vdots & \\vdots & \\vdots & \\vdots\\\\0.0 & 0.0 & 0.0 & 0.0 & 0.0 & \\cdots & 0.0 & 0.0 & 0.0 & 0.0 & -1.0\\\\0.0 & 0.0 & 0.0 & 0.0 & 0.0 & \\cdots & 0.0 & 0.0 & -1.0 & -1.0 & 0.0\\\\0.0 & 0.0 & 0.0 & 0.0 & 0.0 & \\cdots & 0.0 & -1.0 & 0.0 & 0.0 & -1.0\\\\0.0 & 0.0 & 0.0 & 0.0 & 0.0 & \\cdots & 0.0 & -1.0 & 0.0 & 0.0 & -1.0\\\\0.0 & 0.0 & 0.0 & 0.0 & 0.0 & \\cdots & -1.0 & 0.0 & -1.0 & -1.0 & 0.0\\\\\\end{array}\\right)\\end{equation*}"
      ],
      "text/plain": [
       "Quantum object: dims = [[2, 2, 2, 2, 2, 2, 2, 2], [2, 2, 2, 2, 2, 2, 2, 2]], shape = (256, 256), type = oper, isherm = True\n",
       "Qobj data =\n",
       "[[ 0. -1. -1. ...  0.  0.  0.]\n",
       " [-1.  0.  0. ...  0.  0.  0.]\n",
       " [-1.  0.  0. ...  0.  0.  0.]\n",
       " ...\n",
       " [ 0.  0.  0. ...  0.  0. -1.]\n",
       " [ 0.  0.  0. ...  0.  0. -1.]\n",
       " [ 0.  0.  0. ... -1. -1.  0.]]"
      ]
     },
     "execution_count": 312,
     "metadata": {},
     "output_type": "execute_result"
    }
   ],
   "source": [
    "HB"
   ]
  },
  {
   "cell_type": "code",
   "execution_count": 313,
   "metadata": {
    "collapsed": true
   },
   "outputs": [],
   "source": [
    "sigz_dict = {}"
   ]
  },
  {
   "cell_type": "code",
   "execution_count": 314,
   "metadata": {
    "collapsed": true
   },
   "outputs": [],
   "source": [
    "sigz1 = sigmaz() \n",
    "for i in range(2,n+1):\n",
    "    sigz1 = tensor(sigz1, qeye(2))"
   ]
  },
  {
   "cell_type": "code",
   "execution_count": 315,
   "metadata": {
    "collapsed": true
   },
   "outputs": [],
   "source": [
    "sigz_dict['sigz1']= sigz1"
   ]
  },
  {
   "cell_type": "code",
   "execution_count": 316,
   "metadata": {
    "collapsed": true
   },
   "outputs": [],
   "source": [
    "for i in range(1, n):\n",
    "    prod = qeye(2)\n",
    "    for j in range(1,n):\n",
    "        if j == i :\n",
    "            prod = tensor(prod, sigmaz())\n",
    "        else :\n",
    "            prod = tensor( prod, qeye(2))\n",
    "    sigz_dict['sigz' + str(i+1)] = prod"
   ]
  },
  {
   "cell_type": "code",
   "execution_count": null,
   "metadata": {
    "collapsed": true
   },
   "outputs": [],
   "source": []
  },
  {
   "cell_type": "code",
   "execution_count": null,
   "metadata": {
    "collapsed": false
   },
   "outputs": [],
   "source": []
  },
  {
   "cell_type": "code",
   "execution_count": 317,
   "metadata": {
    "collapsed": true
   },
   "outputs": [],
   "source": [
    "#ok now we generate 3 points in the box (0,1) x (0,1)\n",
    "#and 2 pts in the box (1, 1) x (2, 2)\n",
    "pts = {}\n",
    "dists = []\n",
    "for i in range(0, floor(n/2.0)):\n",
    "    dists.append( (np.random.uniform(-1., 0), np.random.uniform(-1, 0)))\n",
    "for i in range(0, ceil(n/2.0)):\n",
    "    dists.append( (np.random.uniform(0, 1), np.random.uniform(0, 1)) )"
   ]
  },
  {
   "cell_type": "code",
   "execution_count": 318,
   "metadata": {
    "collapsed": false
   },
   "outputs": [
    {
     "name": "stdout",
     "output_type": "stream",
     "text": [
      "[(-0.9051692363087637, -0.5011000927694669), (0.4081416957352215, 0.43168127516901833), (0.39706077550895724, 0.9224212127109517), (-0.974271995475476, -0.28192357009006885), (-0.14873348478674442, -0.8438826064123371), (0.09566460968571244, 0.7053827588897205), (-0.08331149742613331, -0.12629108113572984), (0.9988299704328479, 0.4250305554550188)]\n"
     ]
    }
   ],
   "source": [
    "shuffle(dists)\n",
    "print(dists)"
   ]
  },
  {
   "cell_type": "code",
   "execution_count": null,
   "metadata": {
    "collapsed": false
   },
   "outputs": [],
   "source": []
  },
  {
   "cell_type": "code",
   "execution_count": 319,
   "metadata": {
    "collapsed": false
   },
   "outputs": [],
   "source": [
    "i=0\n",
    "for dist in dists:\n",
    "    pts[str(i)] = dist\n",
    "    i+=1"
   ]
  },
  {
   "cell_type": "code",
   "execution_count": null,
   "metadata": {
    "collapsed": true
   },
   "outputs": [],
   "source": []
  },
  {
   "cell_type": "code",
   "execution_count": 320,
   "metadata": {
    "collapsed": false
   },
   "outputs": [
    {
     "data": {
      "image/png": "[encoded data removed]",
      "text/plain": [
       "<Figure size 432x288 with 1 Axes>"
      ]
     },
     "metadata": {},
     "output_type": "display_data"
    }
   ],
   "source": [
    "x_l = []\n",
    "y_l = []\n",
    "for pt in pts:\n",
    "    x_l.append(pts[pt][0])\n",
    "    y_l.append(pts[pt][1])\n",
    "    \n",
    "plt.scatter(x_l, y_l)\n",
    "plt.scatter([pts['1'][0]], [pts['1'][1]], color = 'r')\n",
    "plt.show()"
   ]
  },
  {
   "cell_type": "code",
   "execution_count": 321,
   "metadata": {
    "collapsed": false
   },
   "outputs": [
    {
     "data": {
      "text/plain": [
       "dict_keys(['0', '1', '2', '3', '4', '5', '6', '7'])"
      ]
     },
     "execution_count": 321,
     "metadata": {},
     "output_type": "execute_result"
    }
   ],
   "source": [
    "pts.keys()"
   ]
  },
  {
   "cell_type": "code",
   "execution_count": 322,
   "metadata": {
    "collapsed": false
   },
   "outputs": [
    {
     "data": {
      "image/png": "[encoded data removed]",
      "text/plain": [
       "<Figure size 432x288 with 1 Axes>"
      ]
     },
     "metadata": {},
     "output_type": "display_data"
    }
   ],
   "source": [
    "x_l = []\n",
    "y_l = []\n",
    "for pt in pts:\n",
    "    x_l.append(pts[pt][0])\n",
    "    y_l.append(pts[pt][1])\n",
    "    \n",
    "plt.scatter(x_l, y_l)\n",
    "plt.show()"
   ]
  },
  {
   "cell_type": "code",
   "execution_count": 323,
   "metadata": {
    "collapsed": true
   },
   "outputs": [],
   "source": [
    "X= np.zeros((2, n))\n",
    "\n",
    "for j in range(0, n):\n",
    "        X[0, j] = pts[str(j)][0]\n",
    "        X[1, j] = pts[str(j)][1]"
   ]
  },
  {
   "cell_type": "code",
   "execution_count": 324,
   "metadata": {
    "collapsed": false
   },
   "outputs": [
    {
     "data": {
      "text/plain": [
       "array([[ 1.07043265, -0.58575283, -0.82163255,  1.02315297,  0.55749863,\n",
       "        -0.44006003,  0.13869548, -1.11709301],\n",
       "       [-0.58575283,  0.35292837,  0.56024902, -0.51934215, -0.42499266,\n",
       "         0.34354524, -0.08852039,  0.59114189],\n",
       "       [-0.82163255,  0.56024902,  1.00851815, -0.64689748, -0.83747145,\n",
       "         0.68864468, -0.1495733 ,  0.7886534 ],\n",
       "       [ 1.02315297, -0.51934215, -0.64689748,  1.02868682,  0.38281727,\n",
       "        -0.29206738,  0.11677249, -1.0929582 ],\n",
       "       [ 0.55749863, -0.42499266, -0.83747145,  0.38281727,  0.7342595 ,\n",
       "        -0.60948877,  0.11896606, -0.50723536],\n",
       "       [-0.44006003,  0.34354524,  0.68864468, -0.29206738, -0.60948877,\n",
       "         0.50671655, -0.09705351,  0.39536191],\n",
       "       [ 0.13869548, -0.08852039, -0.1495733 ,  0.11677249,  0.11896606,\n",
       "        -0.09705351,  0.02289024, -0.13689159],\n",
       "       [-1.11709301,  0.59114189,  0.7886534 , -1.0929582 , -0.50723536,\n",
       "         0.39536191, -0.13689159,  1.17831228]])"
      ]
     },
     "execution_count": 324,
     "metadata": {},
     "output_type": "execute_result"
    }
   ],
   "source": [
    "np.matmul( np.transpose(X), X)"
   ]
  },
  {
   "cell_type": "code",
   "execution_count": 325,
   "metadata": {
    "collapsed": false
   },
   "outputs": [],
   "source": [
    "Q = np.matmul( np.transpose(X), X)"
   ]
  },
  {
   "cell_type": "code",
   "execution_count": 326,
   "metadata": {
    "collapsed": false
   },
   "outputs": [],
   "source": [
    "#now we need to define HP\n",
    "HP = 0\n",
    "for i in range(0, n):\n",
    "    for j in range(0, n):\n",
    "        HP += -1.0*Q[i,j]*sigz_dict['sigz' + str(i+1)]*sigz_dict['sigz' + str(j+1)]"
   ]
  },
  {
   "cell_type": "code",
   "execution_count": 327,
   "metadata": {
    "collapsed": false
   },
   "outputs": [],
   "source": [
    "tau = 205"
   ]
  },
  {
   "cell_type": "code",
   "execution_count": 328,
   "metadata": {
    "collapsed": true
   },
   "outputs": [],
   "source": [
    "rho0 = np.linspace(0, tau, 1000)"
   ]
  },
  {
   "cell_type": "code",
   "execution_count": 329,
   "metadata": {
    "collapsed": true
   },
   "outputs": [],
   "source": [
    "def HB_coeff(t, args):\n",
    "    return 1.0 - ((1.0*t)/tau)\n",
    "def HP_coeff(t, args):\n",
    "    return ((1.0*t)/tau)"
   ]
  },
  {
   "cell_type": "code",
   "execution_count": 330,
   "metadata": {
    "collapsed": false
   },
   "outputs": [],
   "source": [
    "#init_state = qub_dict['q1']\n",
    "#for i in range(2, n + 1):\n",
    " #   init_state = tensor(init_state, qub_dict['q' + str(i)])"
   ]
  },
  {
   "cell_type": "code",
   "execution_count": 331,
   "metadata": {
    "collapsed": true
   },
   "outputs": [],
   "source": [
    "H = [[HB, HB_coeff], [HP, HP_coeff]]"
   ]
  },
  {
   "cell_type": "code",
   "execution_count": 332,
   "metadata": {
    "collapsed": true
   },
   "outputs": [],
   "source": [
    "init_state = HB.groundstate()[1]"
   ]
  },
  {
   "cell_type": "code",
   "execution_count": 333,
   "metadata": {
    "collapsed": false
   },
   "outputs": [
    {
     "data": {
      "text/latex": [
       "Quantum object: dims = [[2, 2, 2, 2, 2, 2, 2, 2], [1, 1, 1, 1, 1, 1, 1, 1]], shape = (256, 1), type = ket\\begin{equation*}\\left(\\begin{array}{*{11}c}0.500\\\\0.500\\\\0.500\\\\0.500\\\\0.500\\\\\\vdots\\\\0.500\\\\0.500\\\\0.500\\\\0.500\\\\0.500\\\\\\end{array}\\right)\\end{equation*}"
      ],
      "text/plain": [
       "Quantum object: dims = [[2, 2, 2, 2, 2, 2, 2, 2], [1, 1, 1, 1, 1, 1, 1, 1]], shape = (256, 1), type = ket\n",
       "Qobj data =\n",
       "[[0.5]\n",
       " [0.5]\n",
       " [0.5]\n",
       " [0.5]\n",
       " [0.5]\n",
       " [0.5]\n",
       " [0.5]\n",
       " [0.5]\n",
       " [0.5]\n",
       " [0.5]\n",
       " [0.5]\n",
       " [0.5]\n",
       " [0.5]\n",
       " [0.5]\n",
       " [0.5]\n",
       " [0.5]\n",
       " [0.5]\n",
       " [0.5]\n",
       " [0.5]\n",
       " [0.5]\n",
       " [0.5]\n",
       " [0.5]\n",
       " [0.5]\n",
       " [0.5]\n",
       " [0.5]\n",
       " [0.5]\n",
       " [0.5]\n",
       " [0.5]\n",
       " [0.5]\n",
       " [0.5]\n",
       " [0.5]\n",
       " [0.5]\n",
       " [0.5]\n",
       " [0.5]\n",
       " [0.5]\n",
       " [0.5]\n",
       " [0.5]\n",
       " [0.5]\n",
       " [0.5]\n",
       " [0.5]\n",
       " [0.5]\n",
       " [0.5]\n",
       " [0.5]\n",
       " [0.5]\n",
       " [0.5]\n",
       " [0.5]\n",
       " [0.5]\n",
       " [0.5]\n",
       " [0.5]\n",
       " [0.5]\n",
       " [0.5]\n",
       " [0.5]\n",
       " [0.5]\n",
       " [0.5]\n",
       " [0.5]\n",
       " [0.5]\n",
       " [0.5]\n",
       " [0.5]\n",
       " [0.5]\n",
       " [0.5]\n",
       " [0.5]\n",
       " [0.5]\n",
       " [0.5]\n",
       " [0.5]\n",
       " [0.5]\n",
       " [0.5]\n",
       " [0.5]\n",
       " [0.5]\n",
       " [0.5]\n",
       " [0.5]\n",
       " [0.5]\n",
       " [0.5]\n",
       " [0.5]\n",
       " [0.5]\n",
       " [0.5]\n",
       " [0.5]\n",
       " [0.5]\n",
       " [0.5]\n",
       " [0.5]\n",
       " [0.5]\n",
       " [0.5]\n",
       " [0.5]\n",
       " [0.5]\n",
       " [0.5]\n",
       " [0.5]\n",
       " [0.5]\n",
       " [0.5]\n",
       " [0.5]\n",
       " [0.5]\n",
       " [0.5]\n",
       " [0.5]\n",
       " [0.5]\n",
       " [0.5]\n",
       " [0.5]\n",
       " [0.5]\n",
       " [0.5]\n",
       " [0.5]\n",
       " [0.5]\n",
       " [0.5]\n",
       " [0.5]\n",
       " [0.5]\n",
       " [0.5]\n",
       " [0.5]\n",
       " [0.5]\n",
       " [0.5]\n",
       " [0.5]\n",
       " [0.5]\n",
       " [0.5]\n",
       " [0.5]\n",
       " [0.5]\n",
       " [0.5]\n",
       " [0.5]\n",
       " [0.5]\n",
       " [0.5]\n",
       " [0.5]\n",
       " [0.5]\n",
       " [0.5]\n",
       " [0.5]\n",
       " [0.5]\n",
       " [0.5]\n",
       " [0.5]\n",
       " [0.5]\n",
       " [0.5]\n",
       " [0.5]\n",
       " [0.5]\n",
       " [0.5]\n",
       " [0.5]\n",
       " [0.5]\n",
       " [0.5]\n",
       " [0.5]\n",
       " [0.5]\n",
       " [0.5]\n",
       " [0.5]\n",
       " [0.5]\n",
       " [0.5]\n",
       " [0.5]\n",
       " [0.5]\n",
       " [0.5]\n",
       " [0.5]\n",
       " [0.5]\n",
       " [0.5]\n",
       " [0.5]\n",
       " [0.5]\n",
       " [0.5]\n",
       " [0.5]\n",
       " [0.5]\n",
       " [0.5]\n",
       " [0.5]\n",
       " [0.5]\n",
       " [0.5]\n",
       " [0.5]\n",
       " [0.5]\n",
       " [0.5]\n",
       " [0.5]\n",
       " [0.5]\n",
       " [0.5]\n",
       " [0.5]\n",
       " [0.5]\n",
       " [0.5]\n",
       " [0.5]\n",
       " [0.5]\n",
       " [0.5]\n",
       " [0.5]\n",
       " [0.5]\n",
       " [0.5]\n",
       " [0.5]\n",
       " [0.5]\n",
       " [0.5]\n",
       " [0.5]\n",
       " [0.5]\n",
       " [0.5]\n",
       " [0.5]\n",
       " [0.5]\n",
       " [0.5]\n",
       " [0.5]\n",
       " [0.5]\n",
       " [0.5]\n",
       " [0.5]\n",
       " [0.5]\n",
       " [0.5]\n",
       " [0.5]\n",
       " [0.5]\n",
       " [0.5]\n",
       " [0.5]\n",
       " [0.5]\n",
       " [0.5]\n",
       " [0.5]\n",
       " [0.5]\n",
       " [0.5]\n",
       " [0.5]\n",
       " [0.5]\n",
       " [0.5]\n",
       " [0.5]\n",
       " [0.5]\n",
       " [0.5]\n",
       " [0.5]\n",
       " [0.5]\n",
       " [0.5]\n",
       " [0.5]\n",
       " [0.5]\n",
       " [0.5]\n",
       " [0.5]\n",
       " [0.5]\n",
       " [0.5]\n",
       " [0.5]\n",
       " [0.5]\n",
       " [0.5]\n",
       " [0.5]\n",
       " [0.5]\n",
       " [0.5]\n",
       " [0.5]\n",
       " [0.5]\n",
       " [0.5]\n",
       " [0.5]\n",
       " [0.5]\n",
       " [0.5]\n",
       " [0.5]\n",
       " [0.5]\n",
       " [0.5]\n",
       " [0.5]\n",
       " [0.5]\n",
       " [0.5]\n",
       " [0.5]\n",
       " [0.5]\n",
       " [0.5]\n",
       " [0.5]\n",
       " [0.5]\n",
       " [0.5]\n",
       " [0.5]\n",
       " [0.5]\n",
       " [0.5]\n",
       " [0.5]\n",
       " [0.5]\n",
       " [0.5]\n",
       " [0.5]\n",
       " [0.5]\n",
       " [0.5]\n",
       " [0.5]\n",
       " [0.5]\n",
       " [0.5]\n",
       " [0.5]\n",
       " [0.5]\n",
       " [0.5]\n",
       " [0.5]\n",
       " [0.5]\n",
       " [0.5]\n",
       " [0.5]\n",
       " [0.5]\n",
       " [0.5]\n",
       " [0.5]\n",
       " [0.5]\n",
       " [0.5]\n",
       " [0.5]\n",
       " [0.5]\n",
       " [0.5]\n",
       " [0.5]]"
      ]
     },
     "execution_count": 333,
     "metadata": {},
     "output_type": "execute_result"
    }
   ],
   "source": [
    "HB*init_state"
   ]
  },
  {
   "cell_type": "code",
   "execution_count": 334,
   "metadata": {
    "collapsed": false
   },
   "outputs": [
    {
     "data": {
      "text/latex": [
       "Quantum object: dims = [[2, 2, 2, 2, 2, 2, 2, 2], [1, 1, 1, 1, 1, 1, 1, 1]], shape = (256, 1), type = ket\\begin{equation*}\\left(\\begin{array}{*{11}c}-0.062\\\\-0.063\\\\-0.062\\\\-0.062\\\\-0.063\\\\\\vdots\\\\-0.062\\\\-0.063\\\\-0.062\\\\-0.063\\\\-0.062\\\\\\end{array}\\right)\\end{equation*}"
      ],
      "text/plain": [
       "Quantum object: dims = [[2, 2, 2, 2, 2, 2, 2, 2], [1, 1, 1, 1, 1, 1, 1, 1]], shape = (256, 1), type = ket\n",
       "Qobj data =\n",
       "[[-0.0625]\n",
       " [-0.0625]\n",
       " [-0.0625]\n",
       " [-0.0625]\n",
       " [-0.0625]\n",
       " [-0.0625]\n",
       " [-0.0625]\n",
       " [-0.0625]\n",
       " [-0.0625]\n",
       " [-0.0625]\n",
       " [-0.0625]\n",
       " [-0.0625]\n",
       " [-0.0625]\n",
       " [-0.0625]\n",
       " [-0.0625]\n",
       " [-0.0625]\n",
       " [-0.0625]\n",
       " [-0.0625]\n",
       " [-0.0625]\n",
       " [-0.0625]\n",
       " [-0.0625]\n",
       " [-0.0625]\n",
       " [-0.0625]\n",
       " [-0.0625]\n",
       " [-0.0625]\n",
       " [-0.0625]\n",
       " [-0.0625]\n",
       " [-0.0625]\n",
       " [-0.0625]\n",
       " [-0.0625]\n",
       " [-0.0625]\n",
       " [-0.0625]\n",
       " [-0.0625]\n",
       " [-0.0625]\n",
       " [-0.0625]\n",
       " [-0.0625]\n",
       " [-0.0625]\n",
       " [-0.0625]\n",
       " [-0.0625]\n",
       " [-0.0625]\n",
       " [-0.0625]\n",
       " [-0.0625]\n",
       " [-0.0625]\n",
       " [-0.0625]\n",
       " [-0.0625]\n",
       " [-0.0625]\n",
       " [-0.0625]\n",
       " [-0.0625]\n",
       " [-0.0625]\n",
       " [-0.0625]\n",
       " [-0.0625]\n",
       " [-0.0625]\n",
       " [-0.0625]\n",
       " [-0.0625]\n",
       " [-0.0625]\n",
       " [-0.0625]\n",
       " [-0.0625]\n",
       " [-0.0625]\n",
       " [-0.0625]\n",
       " [-0.0625]\n",
       " [-0.0625]\n",
       " [-0.0625]\n",
       " [-0.0625]\n",
       " [-0.0625]\n",
       " [-0.0625]\n",
       " [-0.0625]\n",
       " [-0.0625]\n",
       " [-0.0625]\n",
       " [-0.0625]\n",
       " [-0.0625]\n",
       " [-0.0625]\n",
       " [-0.0625]\n",
       " [-0.0625]\n",
       " [-0.0625]\n",
       " [-0.0625]\n",
       " [-0.0625]\n",
       " [-0.0625]\n",
       " [-0.0625]\n",
       " [-0.0625]\n",
       " [-0.0625]\n",
       " [-0.0625]\n",
       " [-0.0625]\n",
       " [-0.0625]\n",
       " [-0.0625]\n",
       " [-0.0625]\n",
       " [-0.0625]\n",
       " [-0.0625]\n",
       " [-0.0625]\n",
       " [-0.0625]\n",
       " [-0.0625]\n",
       " [-0.0625]\n",
       " [-0.0625]\n",
       " [-0.0625]\n",
       " [-0.0625]\n",
       " [-0.0625]\n",
       " [-0.0625]\n",
       " [-0.0625]\n",
       " [-0.0625]\n",
       " [-0.0625]\n",
       " [-0.0625]\n",
       " [-0.0625]\n",
       " [-0.0625]\n",
       " [-0.0625]\n",
       " [-0.0625]\n",
       " [-0.0625]\n",
       " [-0.0625]\n",
       " [-0.0625]\n",
       " [-0.0625]\n",
       " [-0.0625]\n",
       " [-0.0625]\n",
       " [-0.0625]\n",
       " [-0.0625]\n",
       " [-0.0625]\n",
       " [-0.0625]\n",
       " [-0.0625]\n",
       " [-0.0625]\n",
       " [-0.0625]\n",
       " [-0.0625]\n",
       " [-0.0625]\n",
       " [-0.0625]\n",
       " [-0.0625]\n",
       " [-0.0625]\n",
       " [-0.0625]\n",
       " [-0.0625]\n",
       " [-0.0625]\n",
       " [-0.0625]\n",
       " [-0.0625]\n",
       " [-0.0625]\n",
       " [-0.0625]\n",
       " [-0.0625]\n",
       " [-0.0625]\n",
       " [-0.0625]\n",
       " [-0.0625]\n",
       " [-0.0625]\n",
       " [-0.0625]\n",
       " [-0.0625]\n",
       " [-0.0625]\n",
       " [-0.0625]\n",
       " [-0.0625]\n",
       " [-0.0625]\n",
       " [-0.0625]\n",
       " [-0.0625]\n",
       " [-0.0625]\n",
       " [-0.0625]\n",
       " [-0.0625]\n",
       " [-0.0625]\n",
       " [-0.0625]\n",
       " [-0.0625]\n",
       " [-0.0625]\n",
       " [-0.0625]\n",
       " [-0.0625]\n",
       " [-0.0625]\n",
       " [-0.0625]\n",
       " [-0.0625]\n",
       " [-0.0625]\n",
       " [-0.0625]\n",
       " [-0.0625]\n",
       " [-0.0625]\n",
       " [-0.0625]\n",
       " [-0.0625]\n",
       " [-0.0625]\n",
       " [-0.0625]\n",
       " [-0.0625]\n",
       " [-0.0625]\n",
       " [-0.0625]\n",
       " [-0.0625]\n",
       " [-0.0625]\n",
       " [-0.0625]\n",
       " [-0.0625]\n",
       " [-0.0625]\n",
       " [-0.0625]\n",
       " [-0.0625]\n",
       " [-0.0625]\n",
       " [-0.0625]\n",
       " [-0.0625]\n",
       " [-0.0625]\n",
       " [-0.0625]\n",
       " [-0.0625]\n",
       " [-0.0625]\n",
       " [-0.0625]\n",
       " [-0.0625]\n",
       " [-0.0625]\n",
       " [-0.0625]\n",
       " [-0.0625]\n",
       " [-0.0625]\n",
       " [-0.0625]\n",
       " [-0.0625]\n",
       " [-0.0625]\n",
       " [-0.0625]\n",
       " [-0.0625]\n",
       " [-0.0625]\n",
       " [-0.0625]\n",
       " [-0.0625]\n",
       " [-0.0625]\n",
       " [-0.0625]\n",
       " [-0.0625]\n",
       " [-0.0625]\n",
       " [-0.0625]\n",
       " [-0.0625]\n",
       " [-0.0625]\n",
       " [-0.0625]\n",
       " [-0.0625]\n",
       " [-0.0625]\n",
       " [-0.0625]\n",
       " [-0.0625]\n",
       " [-0.0625]\n",
       " [-0.0625]\n",
       " [-0.0625]\n",
       " [-0.0625]\n",
       " [-0.0625]\n",
       " [-0.0625]\n",
       " [-0.0625]\n",
       " [-0.0625]\n",
       " [-0.0625]\n",
       " [-0.0625]\n",
       " [-0.0625]\n",
       " [-0.0625]\n",
       " [-0.0625]\n",
       " [-0.0625]\n",
       " [-0.0625]\n",
       " [-0.0625]\n",
       " [-0.0625]\n",
       " [-0.0625]\n",
       " [-0.0625]\n",
       " [-0.0625]\n",
       " [-0.0625]\n",
       " [-0.0625]\n",
       " [-0.0625]\n",
       " [-0.0625]\n",
       " [-0.0625]\n",
       " [-0.0625]\n",
       " [-0.0625]\n",
       " [-0.0625]\n",
       " [-0.0625]\n",
       " [-0.0625]\n",
       " [-0.0625]\n",
       " [-0.0625]\n",
       " [-0.0625]\n",
       " [-0.0625]\n",
       " [-0.0625]\n",
       " [-0.0625]\n",
       " [-0.0625]\n",
       " [-0.0625]\n",
       " [-0.0625]\n",
       " [-0.0625]\n",
       " [-0.0625]\n",
       " [-0.0625]\n",
       " [-0.0625]\n",
       " [-0.0625]\n",
       " [-0.0625]\n",
       " [-0.0625]\n",
       " [-0.0625]\n",
       " [-0.0625]\n",
       " [-0.0625]\n",
       " [-0.0625]\n",
       " [-0.0625]]"
      ]
     },
     "execution_count": 334,
     "metadata": {},
     "output_type": "execute_result"
    }
   ],
   "source": [
    "init_state"
   ]
  },
  {
   "cell_type": "code",
   "execution_count": 335,
   "metadata": {
    "collapsed": false
   },
   "outputs": [],
   "source": [
    "res = mesolve(H, init_state, rho0)"
   ]
  },
  {
   "cell_type": "code",
   "execution_count": null,
   "metadata": {
    "collapsed": true
   },
   "outputs": [],
   "source": []
  },
  {
   "cell_type": "code",
   "execution_count": 336,
   "metadata": {
    "collapsed": false
   },
   "outputs": [
    {
     "data": {
      "text/plain": [
       "1000"
      ]
     },
     "execution_count": 336,
     "metadata": {},
     "output_type": "execute_result"
    }
   ],
   "source": [
    "len(res.times)"
   ]
  },
  {
   "cell_type": "code",
   "execution_count": 337,
   "metadata": {
    "collapsed": false
   },
   "outputs": [
    {
     "data": {
      "text/plain": [
       "array([  0.        ,   0.20520521,   0.41041041,   0.61561562,\n",
       "         0.82082082,   1.02602603,   1.23123123,   1.43643644,\n",
       "         1.64164164,   1.84684685,   2.05205205,   2.25725726,\n",
       "         2.46246246,   2.66766767,   2.87287287,   3.07807808,\n",
       "         3.28328328,   3.48848849,   3.69369369,   3.8988989 ,\n",
       "         4.1041041 ,   4.30930931,   4.51451451,   4.71971972,\n",
       "         4.92492492,   5.13013013,   5.33533534,   5.54054054,\n",
       "         5.74574575,   5.95095095,   6.15615616,   6.36136136,\n",
       "         6.56656657,   6.77177177,   6.97697698,   7.18218218,\n",
       "         7.38738739,   7.59259259,   7.7977978 ,   8.003003  ,\n",
       "         8.20820821,   8.41341341,   8.61861862,   8.82382382,\n",
       "         9.02902903,   9.23423423,   9.43943944,   9.64464464,\n",
       "         9.84984985,  10.05505506,  10.26026026,  10.46546547,\n",
       "        10.67067067,  10.87587588,  11.08108108,  11.28628629,\n",
       "        11.49149149,  11.6966967 ,  11.9019019 ,  12.10710711,\n",
       "        12.31231231,  12.51751752,  12.72272272,  12.92792793,\n",
       "        13.13313313,  13.33833834,  13.54354354,  13.74874875,\n",
       "        13.95395395,  14.15915916,  14.36436436,  14.56956957,\n",
       "        14.77477477,  14.97997998,  15.18518519,  15.39039039,\n",
       "        15.5955956 ,  15.8008008 ,  16.00600601,  16.21121121,\n",
       "        16.41641642,  16.62162162,  16.82682683,  17.03203203,\n",
       "        17.23723724,  17.44244244,  17.64764765,  17.85285285,\n",
       "        18.05805806,  18.26326326,  18.46846847,  18.67367367,\n",
       "        18.87887888,  19.08408408,  19.28928929,  19.49449449,\n",
       "        19.6996997 ,  19.9049049 ,  20.11011011,  20.31531532,\n",
       "        20.52052052,  20.72572573,  20.93093093,  21.13613614,\n",
       "        21.34134134,  21.54654655,  21.75175175,  21.95695696,\n",
       "        22.16216216,  22.36736737,  22.57257257,  22.77777778,\n",
       "        22.98298298,  23.18818819,  23.39339339,  23.5985986 ,\n",
       "        23.8038038 ,  24.00900901,  24.21421421,  24.41941942,\n",
       "        24.62462462,  24.82982983,  25.03503504,  25.24024024,\n",
       "        25.44544545,  25.65065065,  25.85585586,  26.06106106,\n",
       "        26.26626627,  26.47147147,  26.67667668,  26.88188188,\n",
       "        27.08708709,  27.29229229,  27.4974975 ,  27.7027027 ,\n",
       "        27.90790791,  28.11311311,  28.31831832,  28.52352352,\n",
       "        28.72872873,  28.93393393,  29.13913914,  29.34434434,\n",
       "        29.54954955,  29.75475475,  29.95995996,  30.16516517,\n",
       "        30.37037037,  30.57557558,  30.78078078,  30.98598599,\n",
       "        31.19119119,  31.3963964 ,  31.6016016 ,  31.80680681,\n",
       "        32.01201201,  32.21721722,  32.42242242,  32.62762763,\n",
       "        32.83283283,  33.03803804,  33.24324324,  33.44844845,\n",
       "        33.65365365,  33.85885886,  34.06406406,  34.26926927,\n",
       "        34.47447447,  34.67967968,  34.88488488,  35.09009009,\n",
       "        35.2952953 ,  35.5005005 ,  35.70570571,  35.91091091,\n",
       "        36.11611612,  36.32132132,  36.52652653,  36.73173173,\n",
       "        36.93693694,  37.14214214,  37.34734735,  37.55255255,\n",
       "        37.75775776,  37.96296296,  38.16816817,  38.37337337,\n",
       "        38.57857858,  38.78378378,  38.98898899,  39.19419419,\n",
       "        39.3993994 ,  39.6046046 ,  39.80980981,  40.01501502,\n",
       "        40.22022022,  40.42542543,  40.63063063,  40.83583584,\n",
       "        41.04104104,  41.24624625,  41.45145145,  41.65665666,\n",
       "        41.86186186,  42.06706707,  42.27227227,  42.47747748,\n",
       "        42.68268268,  42.88788789,  43.09309309,  43.2982983 ,\n",
       "        43.5035035 ,  43.70870871,  43.91391391,  44.11911912,\n",
       "        44.32432432,  44.52952953,  44.73473473,  44.93993994,\n",
       "        45.14514515,  45.35035035,  45.55555556,  45.76076076,\n",
       "        45.96596597,  46.17117117,  46.37637638,  46.58158158,\n",
       "        46.78678679,  46.99199199,  47.1971972 ,  47.4024024 ,\n",
       "        47.60760761,  47.81281281,  48.01801802,  48.22322322,\n",
       "        48.42842843,  48.63363363,  48.83883884,  49.04404404,\n",
       "        49.24924925,  49.45445445,  49.65965966,  49.86486486,\n",
       "        50.07007007,  50.27527528,  50.48048048,  50.68568569,\n",
       "        50.89089089,  51.0960961 ,  51.3013013 ,  51.50650651,\n",
       "        51.71171171,  51.91691692,  52.12212212,  52.32732733,\n",
       "        52.53253253,  52.73773774,  52.94294294,  53.14814815,\n",
       "        53.35335335,  53.55855856,  53.76376376,  53.96896897,\n",
       "        54.17417417,  54.37937938,  54.58458458,  54.78978979,\n",
       "        54.99499499,  55.2002002 ,  55.40540541,  55.61061061,\n",
       "        55.81581582,  56.02102102,  56.22622623,  56.43143143,\n",
       "        56.63663664,  56.84184184,  57.04704705,  57.25225225,\n",
       "        57.45745746,  57.66266266,  57.86786787,  58.07307307,\n",
       "        58.27827828,  58.48348348,  58.68868869,  58.89389389,\n",
       "        59.0990991 ,  59.3043043 ,  59.50950951,  59.71471471,\n",
       "        59.91991992,  60.12512513,  60.33033033,  60.53553554,\n",
       "        60.74074074,  60.94594595,  61.15115115,  61.35635636,\n",
       "        61.56156156,  61.76676677,  61.97197197,  62.17717718,\n",
       "        62.38238238,  62.58758759,  62.79279279,  62.997998  ,\n",
       "        63.2032032 ,  63.40840841,  63.61361361,  63.81881882,\n",
       "        64.02402402,  64.22922923,  64.43443443,  64.63963964,\n",
       "        64.84484484,  65.05005005,  65.25525526,  65.46046046,\n",
       "        65.66566567,  65.87087087,  66.07607608,  66.28128128,\n",
       "        66.48648649,  66.69169169,  66.8968969 ,  67.1021021 ,\n",
       "        67.30730731,  67.51251251,  67.71771772,  67.92292292,\n",
       "        68.12812813,  68.33333333,  68.53853854,  68.74374374,\n",
       "        68.94894895,  69.15415415,  69.35935936,  69.56456456,\n",
       "        69.76976977,  69.97497497,  70.18018018,  70.38538539,\n",
       "        70.59059059,  70.7957958 ,  71.001001  ,  71.20620621,\n",
       "        71.41141141,  71.61661662,  71.82182182,  72.02702703,\n",
       "        72.23223223,  72.43743744,  72.64264264,  72.84784785,\n",
       "        73.05305305,  73.25825826,  73.46346346,  73.66866867,\n",
       "        73.87387387,  74.07907908,  74.28428428,  74.48948949,\n",
       "        74.69469469,  74.8998999 ,  75.10510511,  75.31031031,\n",
       "        75.51551552,  75.72072072,  75.92592593,  76.13113113,\n",
       "        76.33633634,  76.54154154,  76.74674675,  76.95195195,\n",
       "        77.15715716,  77.36236236,  77.56756757,  77.77277277,\n",
       "        77.97797798,  78.18318318,  78.38838839,  78.59359359,\n",
       "        78.7987988 ,  79.004004  ,  79.20920921,  79.41441441,\n",
       "        79.61961962,  79.82482482,  80.03003003,  80.23523524,\n",
       "        80.44044044,  80.64564565,  80.85085085,  81.05605606,\n",
       "        81.26126126,  81.46646647,  81.67167167,  81.87687688,\n",
       "        82.08208208,  82.28728729,  82.49249249,  82.6976977 ,\n",
       "        82.9029029 ,  83.10810811,  83.31331331,  83.51851852,\n",
       "        83.72372372,  83.92892893,  84.13413413,  84.33933934,\n",
       "        84.54454454,  84.74974975,  84.95495495,  85.16016016,\n",
       "        85.36536537,  85.57057057,  85.77577578,  85.98098098,\n",
       "        86.18618619,  86.39139139,  86.5965966 ,  86.8018018 ,\n",
       "        87.00700701,  87.21221221,  87.41741742,  87.62262262,\n",
       "        87.82782783,  88.03303303,  88.23823824,  88.44344344,\n",
       "        88.64864865,  88.85385385,  89.05905906,  89.26426426,\n",
       "        89.46946947,  89.67467467,  89.87987988,  90.08508509,\n",
       "        90.29029029,  90.4954955 ,  90.7007007 ,  90.90590591,\n",
       "        91.11111111,  91.31631632,  91.52152152,  91.72672673,\n",
       "        91.93193193,  92.13713714,  92.34234234,  92.54754755,\n",
       "        92.75275275,  92.95795796,  93.16316316,  93.36836837,\n",
       "        93.57357357,  93.77877878,  93.98398398,  94.18918919,\n",
       "        94.39439439,  94.5995996 ,  94.8048048 ,  95.01001001,\n",
       "        95.21521522,  95.42042042,  95.62562563,  95.83083083,\n",
       "        96.03603604,  96.24124124,  96.44644645,  96.65165165,\n",
       "        96.85685686,  97.06206206,  97.26726727,  97.47247247,\n",
       "        97.67767768,  97.88288288,  98.08808809,  98.29329329,\n",
       "        98.4984985 ,  98.7037037 ,  98.90890891,  99.11411411,\n",
       "        99.31931932,  99.52452452,  99.72972973,  99.93493493,\n",
       "       100.14014014, 100.34534535, 100.55055055, 100.75575576,\n",
       "       100.96096096, 101.16616617, 101.37137137, 101.57657658,\n",
       "       101.78178178, 101.98698699, 102.19219219, 102.3973974 ,\n",
       "       102.6026026 , 102.80780781, 103.01301301, 103.21821822,\n",
       "       103.42342342, 103.62862863, 103.83383383, 104.03903904,\n",
       "       104.24424424, 104.44944945, 104.65465465, 104.85985986,\n",
       "       105.06506507, 105.27027027, 105.47547548, 105.68068068,\n",
       "       105.88588589, 106.09109109, 106.2962963 , 106.5015015 ,\n",
       "       106.70670671, 106.91191191, 107.11711712, 107.32232232,\n",
       "       107.52752753, 107.73273273, 107.93793794, 108.14314314,\n",
       "       108.34834835, 108.55355355, 108.75875876, 108.96396396,\n",
       "       109.16916917, 109.37437437, 109.57957958, 109.78478478,\n",
       "       109.98998999, 110.1951952 , 110.4004004 , 110.60560561,\n",
       "       110.81081081, 111.01601602, 111.22122122, 111.42642643,\n",
       "       111.63163163, 111.83683684, 112.04204204, 112.24724725,\n",
       "       112.45245245, 112.65765766, 112.86286286, 113.06806807,\n",
       "       113.27327327, 113.47847848, 113.68368368, 113.88888889,\n",
       "       114.09409409, 114.2992993 , 114.5045045 , 114.70970971,\n",
       "       114.91491491, 115.12012012, 115.32532533, 115.53053053,\n",
       "       115.73573574, 115.94094094, 116.14614615, 116.35135135,\n",
       "       116.55655656, 116.76176176, 116.96696697, 117.17217217,\n",
       "       117.37737738, 117.58258258, 117.78778779, 117.99299299,\n",
       "       118.1981982 , 118.4034034 , 118.60860861, 118.81381381,\n",
       "       119.01901902, 119.22422422, 119.42942943, 119.63463463,\n",
       "       119.83983984, 120.04504505, 120.25025025, 120.45545546,\n",
       "       120.66066066, 120.86586587, 121.07107107, 121.27627628,\n",
       "       121.48148148, 121.68668669, 121.89189189, 122.0970971 ,\n",
       "       122.3023023 , 122.50750751, 122.71271271, 122.91791792,\n",
       "       123.12312312, 123.32832833, 123.53353353, 123.73873874,\n",
       "       123.94394394, 124.14914915, 124.35435435, 124.55955956,\n",
       "       124.76476476, 124.96996997, 125.17517518, 125.38038038,\n",
       "       125.58558559, 125.79079079, 125.995996  , 126.2012012 ,\n",
       "       126.40640641, 126.61161161, 126.81681682, 127.02202202,\n",
       "       127.22722723, 127.43243243, 127.63763764, 127.84284284,\n",
       "       128.04804805, 128.25325325, 128.45845846, 128.66366366,\n",
       "       128.86886887, 129.07407407, 129.27927928, 129.48448448,\n",
       "       129.68968969, 129.89489489, 130.1001001 , 130.30530531,\n",
       "       130.51051051, 130.71571572, 130.92092092, 131.12612613,\n",
       "       131.33133133, 131.53653654, 131.74174174, 131.94694695,\n",
       "       132.15215215, 132.35735736, 132.56256256, 132.76776777,\n",
       "       132.97297297, 133.17817818, 133.38338338, 133.58858859,\n",
       "       133.79379379, 133.998999  , 134.2042042 , 134.40940941,\n",
       "       134.61461461, 134.81981982, 135.02502503, 135.23023023,\n",
       "       135.43543544, 135.64064064, 135.84584585, 136.05105105,\n",
       "       136.25625626, 136.46146146, 136.66666667, 136.87187187,\n",
       "       137.07707708, 137.28228228, 137.48748749, 137.69269269,\n",
       "       137.8978979 , 138.1031031 , 138.30830831, 138.51351351,\n",
       "       138.71871872, 138.92392392, 139.12912913, 139.33433433,\n",
       "       139.53953954, 139.74474474, 139.94994995, 140.15515516,\n",
       "       140.36036036, 140.56556557, 140.77077077, 140.97597598,\n",
       "       141.18118118, 141.38638639, 141.59159159, 141.7967968 ,\n",
       "       142.002002  , 142.20720721, 142.41241241, 142.61761762,\n",
       "       142.82282282, 143.02802803, 143.23323323, 143.43843844,\n",
       "       143.64364364, 143.84884885, 144.05405405, 144.25925926,\n",
       "       144.46446446, 144.66966967, 144.87487487, 145.08008008,\n",
       "       145.28528529, 145.49049049, 145.6956957 , 145.9009009 ,\n",
       "       146.10610611, 146.31131131, 146.51651652, 146.72172172,\n",
       "       146.92692693, 147.13213213, 147.33733734, 147.54254254,\n",
       "       147.74774775, 147.95295295, 148.15815816, 148.36336336,\n",
       "       148.56856857, 148.77377377, 148.97897898, 149.18418418,\n",
       "       149.38938939, 149.59459459, 149.7997998 , 150.00500501,\n",
       "       150.21021021, 150.41541542, 150.62062062, 150.82582583,\n",
       "       151.03103103, 151.23623624, 151.44144144, 151.64664665,\n",
       "       151.85185185, 152.05705706, 152.26226226, 152.46746747,\n",
       "       152.67267267, 152.87787788, 153.08308308, 153.28828829,\n",
       "       153.49349349, 153.6986987 , 153.9039039 , 154.10910911,\n",
       "       154.31431431, 154.51951952, 154.72472472, 154.92992993,\n",
       "       155.13513514, 155.34034034, 155.54554555, 155.75075075,\n",
       "       155.95595596, 156.16116116, 156.36636637, 156.57157157,\n",
       "       156.77677678, 156.98198198, 157.18718719, 157.39239239,\n",
       "       157.5975976 , 157.8028028 , 158.00800801, 158.21321321,\n",
       "       158.41841842, 158.62362362, 158.82882883, 159.03403403,\n",
       "       159.23923924, 159.44444444, 159.64964965, 159.85485485,\n",
       "       160.06006006, 160.26526527, 160.47047047, 160.67567568,\n",
       "       160.88088088, 161.08608609, 161.29129129, 161.4964965 ,\n",
       "       161.7017017 , 161.90690691, 162.11211211, 162.31731732,\n",
       "       162.52252252, 162.72772773, 162.93293293, 163.13813814,\n",
       "       163.34334334, 163.54854855, 163.75375375, 163.95895896,\n",
       "       164.16416416, 164.36936937, 164.57457457, 164.77977978,\n",
       "       164.98498498, 165.19019019, 165.3953954 , 165.6006006 ,\n",
       "       165.80580581, 166.01101101, 166.21621622, 166.42142142,\n",
       "       166.62662663, 166.83183183, 167.03703704, 167.24224224,\n",
       "       167.44744745, 167.65265265, 167.85785786, 168.06306306,\n",
       "       168.26826827, 168.47347347, 168.67867868, 168.88388388,\n",
       "       169.08908909, 169.29429429, 169.4994995 , 169.7047047 ,\n",
       "       169.90990991, 170.11511512, 170.32032032, 170.52552553,\n",
       "       170.73073073, 170.93593594, 171.14114114, 171.34634635,\n",
       "       171.55155155, 171.75675676, 171.96196196, 172.16716717,\n",
       "       172.37237237, 172.57757758, 172.78278278, 172.98798799,\n",
       "       173.19319319, 173.3983984 , 173.6036036 , 173.80880881,\n",
       "       174.01401401, 174.21921922, 174.42442442, 174.62962963,\n",
       "       174.83483483, 175.04004004, 175.24524525, 175.45045045,\n",
       "       175.65565566, 175.86086086, 176.06606607, 176.27127127,\n",
       "       176.47647648, 176.68168168, 176.88688689, 177.09209209,\n",
       "       177.2972973 , 177.5025025 , 177.70770771, 177.91291291,\n",
       "       178.11811812, 178.32332332, 178.52852853, 178.73373373,\n",
       "       178.93893894, 179.14414414, 179.34934935, 179.55455455,\n",
       "       179.75975976, 179.96496496, 180.17017017, 180.37537538,\n",
       "       180.58058058, 180.78578579, 180.99099099, 181.1961962 ,\n",
       "       181.4014014 , 181.60660661, 181.81181181, 182.01701702,\n",
       "       182.22222222, 182.42742743, 182.63263263, 182.83783784,\n",
       "       183.04304304, 183.24824825, 183.45345345, 183.65865866,\n",
       "       183.86386386, 184.06906907, 184.27427427, 184.47947948,\n",
       "       184.68468468, 184.88988989, 185.0950951 , 185.3003003 ,\n",
       "       185.50550551, 185.71071071, 185.91591592, 186.12112112,\n",
       "       186.32632633, 186.53153153, 186.73673674, 186.94194194,\n",
       "       187.14714715, 187.35235235, 187.55755756, 187.76276276,\n",
       "       187.96796797, 188.17317317, 188.37837838, 188.58358358,\n",
       "       188.78878879, 188.99399399, 189.1991992 , 189.4044044 ,\n",
       "       189.60960961, 189.81481481, 190.02002002, 190.22522523,\n",
       "       190.43043043, 190.63563564, 190.84084084, 191.04604605,\n",
       "       191.25125125, 191.45645646, 191.66166166, 191.86686687,\n",
       "       192.07207207, 192.27727728, 192.48248248, 192.68768769,\n",
       "       192.89289289, 193.0980981 , 193.3033033 , 193.50850851,\n",
       "       193.71371371, 193.91891892, 194.12412412, 194.32932933,\n",
       "       194.53453453, 194.73973974, 194.94494494, 195.15015015,\n",
       "       195.35535536, 195.56056056, 195.76576577, 195.97097097,\n",
       "       196.17617618, 196.38138138, 196.58658659, 196.79179179,\n",
       "       196.996997  , 197.2022022 , 197.40740741, 197.61261261,\n",
       "       197.81781782, 198.02302302, 198.22822823, 198.43343343,\n",
       "       198.63863864, 198.84384384, 199.04904905, 199.25425425,\n",
       "       199.45945946, 199.66466466, 199.86986987, 200.07507508,\n",
       "       200.28028028, 200.48548549, 200.69069069, 200.8958959 ,\n",
       "       201.1011011 , 201.30630631, 201.51151151, 201.71671672,\n",
       "       201.92192192, 202.12712713, 202.33233233, 202.53753754,\n",
       "       202.74274274, 202.94794795, 203.15315315, 203.35835836,\n",
       "       203.56356356, 203.76876877, 203.97397397, 204.17917918,\n",
       "       204.38438438, 204.58958959, 204.79479479, 205.        ])"
      ]
     },
     "execution_count": 337,
     "metadata": {},
     "output_type": "execute_result"
    }
   ],
   "source": [
    "res.times"
   ]
  },
  {
   "cell_type": "code",
   "execution_count": 338,
   "metadata": {
    "collapsed": false
   },
   "outputs": [
    {
     "data": {
      "text/latex": [
       "Quantum object: dims = [[2, 2, 2, 2, 2, 2, 2, 2], [1, 1, 1, 1, 1, 1, 1, 1]], shape = (256, 1), type = ket\\begin{equation*}\\left(\\begin{array}{*{11}c}(0.022+0.044j)\\\\(0.025+0.050j)\\\\(0.023+0.045j)\\\\(0.025+0.049j)\\\\(0.022+0.045j)\\\\\\vdots\\\\(0.022+0.045j)\\\\(0.025+0.049j)\\\\(0.023+0.045j)\\\\(0.025+0.050j)\\\\(0.022+0.044j)\\\\\\end{array}\\right)\\end{equation*}"
      ],
      "text/plain": [
       "Quantum object: dims = [[2, 2, 2, 2, 2, 2, 2, 2], [1, 1, 1, 1, 1, 1, 1, 1]], shape = (256, 1), type = ket\n",
       "Qobj data =\n",
       "[[0.02233766+0.04430167j]\n",
       " [0.02517195+0.05034499j]\n",
       " [0.02263406+0.04494311j]\n",
       " [0.02457   +0.04901257j]\n",
       " [0.0224539 +0.04457599j]\n",
       " [0.02833353+0.05725877j]\n",
       " [0.02215832+0.04393077j]\n",
       " [0.02694622+0.05418432j]\n",
       " [0.02608873+0.05233561j]\n",
       " [0.02553051+0.0510463j ]\n",
       " [0.02727785+0.05494893j]\n",
       " [0.02571799+0.05144119j]\n",
       " [0.0226298 +0.04488735j]\n",
       " [0.02480831+0.04951375j]\n",
       " [0.02305322+0.04580854j]\n",
       " [0.02434433+0.04848834j]\n",
       " [0.02557744+0.05128219j]\n",
       " [0.02214399+0.04389862j]\n",
       " [0.02676527+0.05392514j]\n",
       " [0.02232484+0.04430616j]\n",
       " [0.0234922 +0.04672784j]\n",
       " [0.02279826+0.04527514j]\n",
       " [0.02394939+0.0477547j ]\n",
       " [0.02238503+0.04439172j]\n",
       " [0.03335313+0.06833084j]\n",
       " [0.02513935+0.05037445j]\n",
       " [0.0359831 +0.07427418j]\n",
       " [0.02615664+0.05262907j]\n",
       " [0.02650465+0.05326408j]\n",
       " [0.02232773+0.04426926j]\n",
       " [0.02788005+0.05633073j]\n",
       " [0.02263135+0.0449474j ]\n",
       " [0.02357763+0.04696959j]\n",
       " [0.03253516+0.06634216j]\n",
       " [0.02296182+0.04562033j]\n",
       " [0.03056029+0.0619383j ]\n",
       " [0.02805442+0.05668663j]\n",
       " [0.04307192+0.08974012j]\n",
       " [0.02662315+0.05352566j]\n",
       " [0.03946903+0.08157653j]\n",
       " [0.02244264+0.04454844j]\n",
       " [0.02697504+0.05421986j]\n",
       " [0.022561  +0.04480135j]\n",
       " [0.026129  +0.05234522j]\n",
       " [0.02306247+0.04588051j]\n",
       " [0.03099378+0.06299303j]\n",
       " [0.02258018+0.04482657j]\n",
       " [0.02926028+0.05913912j]\n",
       " [0.02267816+0.0449643j ]\n",
       " [0.02414606+0.04811194j]\n",
       " [0.02281561+0.04528687j]\n",
       " [0.0233989 +0.04649525j]\n",
       " [0.02467724+0.04920002j]\n",
       " [0.02940294+0.05945828j]\n",
       " [0.02418239+0.04814737j]\n",
       " [0.02776971+0.05587408j]\n",
       " [0.0241826 +0.04832177j]\n",
       " [0.02233805+0.04431737j]\n",
       " [0.02511289+0.05039067j]\n",
       " [0.02234262+0.04434022j]\n",
       " [0.02269689+0.04504237j]\n",
       " [0.02350883+0.0467791j ]\n",
       " [0.0229576 +0.04563707j]\n",
       " [0.02290243+0.0454732j ]\n",
       " [0.02273595+0.04518392j]\n",
       " [0.02989443+0.06061973j]\n",
       " [0.0224651 +0.04457479j]\n",
       " [0.02847345+0.05744131j]\n",
       " [0.02510746+0.05036627j]\n",
       " [0.03684834+0.07605326j]\n",
       " [0.02416413+0.04827719j]\n",
       " [0.03421497+0.07010181j]\n",
       " [0.02369414+0.04716762j]\n",
       " [0.02708873+0.05440485j]\n",
       " [0.02416627+0.04817916j]\n",
       " [0.02661959+0.05334214j]\n",
       " [0.02256842+0.04478963j]\n",
       " [0.02888286+0.05836861j]\n",
       " [0.02241987+0.04445047j]\n",
       " [0.02765366+0.05562661j]\n",
       " [0.02266351+0.04498727j]\n",
       " [0.02294342+0.04559368j]\n",
       " [0.02313477+0.04602461j]\n",
       " [0.02255625+0.04474936j]\n",
       " [0.02286057+0.04539188j]\n",
       " [0.02594202+0.05207348j]\n",
       " [0.02272817+0.04511599j]\n",
       " [0.02484472+0.04966605j]\n",
       " [0.02644108+0.0531618j ]\n",
       " [0.02323589+0.04621758j]\n",
       " [0.02784848+0.05627953j]\n",
       " [0.02358021+0.04696861j]\n",
       " [0.02301942+0.04573605j]\n",
       " [0.022667  +0.04498308j]\n",
       " [0.02362381+0.04706811j]\n",
       " [0.02240447+0.04441383j]\n",
       " [0.02780954+0.05616371j]\n",
       " [0.04444372+0.09274265j]\n",
       " [0.02642318+0.05308277j]\n",
       " [0.04078735+0.08441828j]\n",
       " [0.03622167+0.07473074j]\n",
       " [0.06403231+0.1372805j ]\n",
       " [0.03355801+0.06872551j]\n",
       " [0.05737971+0.12180621j]\n",
       " [0.02363609+0.04711489j]\n",
       " [0.03308584+0.06753141j]\n",
       " [0.02317156+0.04608007j]\n",
       " [0.03128387+0.06348833j]\n",
       " [0.02666696+0.05371067j]\n",
       " [0.04156178+0.08636498j]\n",
       " [0.02546933+0.05105521j]\n",
       " [0.03832699+0.07902662j]\n",
       " [0.02330439+0.04629444j]\n",
       " [0.02896823+0.05852746j]\n",
       " [0.02286419+0.04534458j]\n",
       " [0.02739284+0.05505222j]\n",
       " [0.02783227+0.05604821j]\n",
       " [0.03857655+0.07965055j]\n",
       " [0.02660632+0.05336399j]\n",
       " [0.03557834+0.07292323j]\n",
       " [0.02216231+0.04393176j]\n",
       " [0.02394594+0.04772427j]\n",
       " [0.02244563+0.04455757j]\n",
       " [0.02335844+0.04644023j]\n",
       " [0.02285404+0.04537312j]\n",
       " [0.02765441+0.05572553j]\n",
       " [0.02254258+0.04470648j]\n",
       " [0.02628501+0.05271334j]\n",
       " [0.02628501+0.05271334j]\n",
       " [0.02254258+0.04470648j]\n",
       " [0.02765441+0.05572553j]\n",
       " [0.02285404+0.04537312j]\n",
       " [0.02335844+0.04644023j]\n",
       " [0.02244563+0.04455757j]\n",
       " [0.02394594+0.04772427j]\n",
       " [0.02216231+0.04393176j]\n",
       " [0.03557834+0.07292323j]\n",
       " [0.02660632+0.05336399j]\n",
       " [0.03857655+0.07965055j]\n",
       " [0.02783227+0.05604821j]\n",
       " [0.02739284+0.05505222j]\n",
       " [0.02286419+0.04534458j]\n",
       " [0.02896823+0.05852746j]\n",
       " [0.02330439+0.04629444j]\n",
       " [0.03832699+0.07902662j]\n",
       " [0.02546933+0.05105521j]\n",
       " [0.04156178+0.08636498j]\n",
       " [0.02666696+0.05371067j]\n",
       " [0.03128387+0.06348833j]\n",
       " [0.02317156+0.04608007j]\n",
       " [0.03308584+0.06753141j]\n",
       " [0.02363609+0.04711489j]\n",
       " [0.05737971+0.12180621j]\n",
       " [0.03355801+0.06872551j]\n",
       " [0.06403231+0.1372805j ]\n",
       " [0.03622167+0.07473074j]\n",
       " [0.04078735+0.08441828j]\n",
       " [0.02642318+0.05308277j]\n",
       " [0.04444372+0.09274265j]\n",
       " [0.02780954+0.05616371j]\n",
       " [0.02240447+0.04441383j]\n",
       " [0.02362381+0.04706811j]\n",
       " [0.022667  +0.04498308j]\n",
       " [0.02301942+0.04573605j]\n",
       " [0.02358021+0.04696861j]\n",
       " [0.02784848+0.05627953j]\n",
       " [0.02323589+0.04621758j]\n",
       " [0.02644108+0.0531618j ]\n",
       " [0.02484472+0.04966605j]\n",
       " [0.02272817+0.04511599j]\n",
       " [0.02594202+0.05207348j]\n",
       " [0.02286057+0.04539188j]\n",
       " [0.02255625+0.04474936j]\n",
       " [0.02313477+0.04602461j]\n",
       " [0.02294342+0.04559368j]\n",
       " [0.02266351+0.04498727j]\n",
       " [0.02765366+0.05562661j]\n",
       " [0.02241987+0.04445047j]\n",
       " [0.02888286+0.05836861j]\n",
       " [0.02256842+0.04478963j]\n",
       " [0.02661959+0.05334214j]\n",
       " [0.02416627+0.04817916j]\n",
       " [0.02708873+0.05440485j]\n",
       " [0.02369414+0.04716762j]\n",
       " [0.03421497+0.07010181j]\n",
       " [0.02416413+0.04827719j]\n",
       " [0.03684834+0.07605326j]\n",
       " [0.02510746+0.05036627j]\n",
       " [0.02847345+0.05744131j]\n",
       " [0.0224651 +0.04457479j]\n",
       " [0.02989443+0.06061973j]\n",
       " [0.02273595+0.04518392j]\n",
       " [0.02290243+0.0454732j ]\n",
       " [0.0229576 +0.04563707j]\n",
       " [0.02350883+0.0467791j ]\n",
       " [0.02269689+0.04504237j]\n",
       " [0.02234262+0.04434022j]\n",
       " [0.02511289+0.05039067j]\n",
       " [0.02233805+0.04431737j]\n",
       " [0.0241826 +0.04832177j]\n",
       " [0.02776971+0.05587408j]\n",
       " [0.02418239+0.04814737j]\n",
       " [0.02940294+0.05945828j]\n",
       " [0.02467724+0.04920002j]\n",
       " [0.0233989 +0.04649525j]\n",
       " [0.02281561+0.04528687j]\n",
       " [0.02414606+0.04811194j]\n",
       " [0.02267816+0.0449643j ]\n",
       " [0.02926028+0.05913912j]\n",
       " [0.02258018+0.04482657j]\n",
       " [0.03099378+0.06299303j]\n",
       " [0.02306247+0.04588051j]\n",
       " [0.026129  +0.05234522j]\n",
       " [0.022561  +0.04480135j]\n",
       " [0.02697504+0.05421986j]\n",
       " [0.02244264+0.04454844j]\n",
       " [0.03946903+0.08157653j]\n",
       " [0.02662315+0.05352566j]\n",
       " [0.04307192+0.08974012j]\n",
       " [0.02805442+0.05668663j]\n",
       " [0.03056029+0.0619383j ]\n",
       " [0.02296182+0.04562033j]\n",
       " [0.03253516+0.06634216j]\n",
       " [0.02357763+0.04696959j]\n",
       " [0.02263135+0.0449474j ]\n",
       " [0.02788005+0.05633073j]\n",
       " [0.02232773+0.04426926j]\n",
       " [0.02650465+0.05326408j]\n",
       " [0.02615664+0.05262907j]\n",
       " [0.0359831 +0.07427418j]\n",
       " [0.02513935+0.05037445j]\n",
       " [0.03335313+0.06833084j]\n",
       " [0.02238503+0.04439172j]\n",
       " [0.02394939+0.0477547j ]\n",
       " [0.02279826+0.04527514j]\n",
       " [0.0234922 +0.04672784j]\n",
       " [0.02232484+0.04430616j]\n",
       " [0.02676527+0.05392514j]\n",
       " [0.02214399+0.04389862j]\n",
       " [0.02557744+0.05128219j]\n",
       " [0.02434433+0.04848834j]\n",
       " [0.02305322+0.04580854j]\n",
       " [0.02480831+0.04951375j]\n",
       " [0.0226298 +0.04488735j]\n",
       " [0.02571799+0.05144119j]\n",
       " [0.02727785+0.05494893j]\n",
       " [0.02553051+0.0510463j ]\n",
       " [0.02608873+0.05233561j]\n",
       " [0.02694622+0.05418432j]\n",
       " [0.02215832+0.04393077j]\n",
       " [0.02833353+0.05725877j]\n",
       " [0.0224539 +0.04457599j]\n",
       " [0.02457   +0.04901257j]\n",
       " [0.02263406+0.04494311j]\n",
       " [0.02517195+0.05034499j]\n",
       " [0.02233766+0.04430167j]]"
      ]
     },
     "execution_count": 338,
     "metadata": {},
     "output_type": "execute_result"
    }
   ],
   "source": [
    "res.states[99]"
   ]
  },
  {
   "cell_type": "code",
   "execution_count": 339,
   "metadata": {
    "collapsed": false
   },
   "outputs": [
    {
     "data": {
      "text/latex": [
       "Quantum object: dims = [[2, 2, 2, 2, 2, 2, 2, 2], [1, 1, 1, 1, 1, 1, 1, 1]], shape = (256, 1), type = ket\\begin{equation*}\\left(\\begin{array}{*{11}c}(0.022+0.044j)\\\\(0.025+0.050j)\\\\(0.023+0.045j)\\\\(0.025+0.049j)\\\\(0.022+0.045j)\\\\\\vdots\\\\(0.022+0.045j)\\\\(0.025+0.049j)\\\\(0.023+0.045j)\\\\(0.025+0.050j)\\\\(0.022+0.044j)\\\\\\end{array}\\right)\\end{equation*}"
      ],
      "text/plain": [
       "Quantum object: dims = [[2, 2, 2, 2, 2, 2, 2, 2], [1, 1, 1, 1, 1, 1, 1, 1]], shape = (256, 1), type = ket\n",
       "Qobj data =\n",
       "[[0.02233766+0.04430167j]\n",
       " [0.02517195+0.05034499j]\n",
       " [0.02263406+0.04494311j]\n",
       " [0.02457   +0.04901257j]\n",
       " [0.0224539 +0.04457599j]\n",
       " [0.02833353+0.05725877j]\n",
       " [0.02215832+0.04393077j]\n",
       " [0.02694622+0.05418432j]\n",
       " [0.02608873+0.05233561j]\n",
       " [0.02553051+0.0510463j ]\n",
       " [0.02727785+0.05494893j]\n",
       " [0.02571799+0.05144119j]\n",
       " [0.0226298 +0.04488735j]\n",
       " [0.02480831+0.04951375j]\n",
       " [0.02305322+0.04580854j]\n",
       " [0.02434433+0.04848834j]\n",
       " [0.02557744+0.05128219j]\n",
       " [0.02214399+0.04389862j]\n",
       " [0.02676527+0.05392514j]\n",
       " [0.02232484+0.04430616j]\n",
       " [0.0234922 +0.04672784j]\n",
       " [0.02279826+0.04527514j]\n",
       " [0.02394939+0.0477547j ]\n",
       " [0.02238503+0.04439172j]\n",
       " [0.03335313+0.06833084j]\n",
       " [0.02513935+0.05037445j]\n",
       " [0.0359831 +0.07427418j]\n",
       " [0.02615664+0.05262907j]\n",
       " [0.02650465+0.05326408j]\n",
       " [0.02232773+0.04426926j]\n",
       " [0.02788005+0.05633073j]\n",
       " [0.02263135+0.0449474j ]\n",
       " [0.02357763+0.04696959j]\n",
       " [0.03253516+0.06634216j]\n",
       " [0.02296182+0.04562033j]\n",
       " [0.03056029+0.0619383j ]\n",
       " [0.02805442+0.05668663j]\n",
       " [0.04307192+0.08974012j]\n",
       " [0.02662315+0.05352566j]\n",
       " [0.03946903+0.08157653j]\n",
       " [0.02244264+0.04454844j]\n",
       " [0.02697504+0.05421986j]\n",
       " [0.022561  +0.04480135j]\n",
       " [0.026129  +0.05234522j]\n",
       " [0.02306247+0.04588051j]\n",
       " [0.03099378+0.06299303j]\n",
       " [0.02258018+0.04482657j]\n",
       " [0.02926028+0.05913912j]\n",
       " [0.02267816+0.0449643j ]\n",
       " [0.02414606+0.04811194j]\n",
       " [0.02281561+0.04528687j]\n",
       " [0.0233989 +0.04649525j]\n",
       " [0.02467724+0.04920002j]\n",
       " [0.02940294+0.05945828j]\n",
       " [0.02418239+0.04814737j]\n",
       " [0.02776971+0.05587408j]\n",
       " [0.0241826 +0.04832177j]\n",
       " [0.02233805+0.04431737j]\n",
       " [0.02511289+0.05039067j]\n",
       " [0.02234262+0.04434022j]\n",
       " [0.02269689+0.04504237j]\n",
       " [0.02350883+0.0467791j ]\n",
       " [0.0229576 +0.04563707j]\n",
       " [0.02290243+0.0454732j ]\n",
       " [0.02273595+0.04518392j]\n",
       " [0.02989443+0.06061973j]\n",
       " [0.0224651 +0.04457479j]\n",
       " [0.02847345+0.05744131j]\n",
       " [0.02510746+0.05036627j]\n",
       " [0.03684834+0.07605326j]\n",
       " [0.02416413+0.04827719j]\n",
       " [0.03421497+0.07010181j]\n",
       " [0.02369414+0.04716762j]\n",
       " [0.02708873+0.05440485j]\n",
       " [0.02416627+0.04817916j]\n",
       " [0.02661959+0.05334214j]\n",
       " [0.02256842+0.04478963j]\n",
       " [0.02888286+0.05836861j]\n",
       " [0.02241987+0.04445047j]\n",
       " [0.02765366+0.05562661j]\n",
       " [0.02266351+0.04498727j]\n",
       " [0.02294342+0.04559368j]\n",
       " [0.02313477+0.04602461j]\n",
       " [0.02255625+0.04474936j]\n",
       " [0.02286057+0.04539188j]\n",
       " [0.02594202+0.05207348j]\n",
       " [0.02272817+0.04511599j]\n",
       " [0.02484472+0.04966605j]\n",
       " [0.02644108+0.0531618j ]\n",
       " [0.02323589+0.04621758j]\n",
       " [0.02784848+0.05627953j]\n",
       " [0.02358021+0.04696861j]\n",
       " [0.02301942+0.04573605j]\n",
       " [0.022667  +0.04498308j]\n",
       " [0.02362381+0.04706811j]\n",
       " [0.02240447+0.04441383j]\n",
       " [0.02780954+0.05616371j]\n",
       " [0.04444372+0.09274265j]\n",
       " [0.02642318+0.05308277j]\n",
       " [0.04078735+0.08441828j]\n",
       " [0.03622167+0.07473074j]\n",
       " [0.06403231+0.1372805j ]\n",
       " [0.03355801+0.06872551j]\n",
       " [0.05737971+0.12180621j]\n",
       " [0.02363609+0.04711489j]\n",
       " [0.03308584+0.06753141j]\n",
       " [0.02317156+0.04608007j]\n",
       " [0.03128387+0.06348833j]\n",
       " [0.02666696+0.05371067j]\n",
       " [0.04156178+0.08636498j]\n",
       " [0.02546933+0.05105521j]\n",
       " [0.03832699+0.07902662j]\n",
       " [0.02330439+0.04629444j]\n",
       " [0.02896823+0.05852746j]\n",
       " [0.02286419+0.04534458j]\n",
       " [0.02739284+0.05505222j]\n",
       " [0.02783227+0.05604821j]\n",
       " [0.03857655+0.07965055j]\n",
       " [0.02660632+0.05336399j]\n",
       " [0.03557834+0.07292323j]\n",
       " [0.02216231+0.04393176j]\n",
       " [0.02394594+0.04772427j]\n",
       " [0.02244563+0.04455757j]\n",
       " [0.02335844+0.04644023j]\n",
       " [0.02285404+0.04537312j]\n",
       " [0.02765441+0.05572553j]\n",
       " [0.02254258+0.04470648j]\n",
       " [0.02628501+0.05271334j]\n",
       " [0.02628501+0.05271334j]\n",
       " [0.02254258+0.04470648j]\n",
       " [0.02765441+0.05572553j]\n",
       " [0.02285404+0.04537312j]\n",
       " [0.02335844+0.04644023j]\n",
       " [0.02244563+0.04455757j]\n",
       " [0.02394594+0.04772427j]\n",
       " [0.02216231+0.04393176j]\n",
       " [0.03557834+0.07292323j]\n",
       " [0.02660632+0.05336399j]\n",
       " [0.03857655+0.07965055j]\n",
       " [0.02783227+0.05604821j]\n",
       " [0.02739284+0.05505222j]\n",
       " [0.02286419+0.04534458j]\n",
       " [0.02896823+0.05852746j]\n",
       " [0.02330439+0.04629444j]\n",
       " [0.03832699+0.07902662j]\n",
       " [0.02546933+0.05105521j]\n",
       " [0.04156178+0.08636498j]\n",
       " [0.02666696+0.05371067j]\n",
       " [0.03128387+0.06348833j]\n",
       " [0.02317156+0.04608007j]\n",
       " [0.03308584+0.06753141j]\n",
       " [0.02363609+0.04711489j]\n",
       " [0.05737971+0.12180621j]\n",
       " [0.03355801+0.06872551j]\n",
       " [0.06403231+0.1372805j ]\n",
       " [0.03622167+0.07473074j]\n",
       " [0.04078735+0.08441828j]\n",
       " [0.02642318+0.05308277j]\n",
       " [0.04444372+0.09274265j]\n",
       " [0.02780954+0.05616371j]\n",
       " [0.02240447+0.04441383j]\n",
       " [0.02362381+0.04706811j]\n",
       " [0.022667  +0.04498308j]\n",
       " [0.02301942+0.04573605j]\n",
       " [0.02358021+0.04696861j]\n",
       " [0.02784848+0.05627953j]\n",
       " [0.02323589+0.04621758j]\n",
       " [0.02644108+0.0531618j ]\n",
       " [0.02484472+0.04966605j]\n",
       " [0.02272817+0.04511599j]\n",
       " [0.02594202+0.05207348j]\n",
       " [0.02286057+0.04539188j]\n",
       " [0.02255625+0.04474936j]\n",
       " [0.02313477+0.04602461j]\n",
       " [0.02294342+0.04559368j]\n",
       " [0.02266351+0.04498727j]\n",
       " [0.02765366+0.05562661j]\n",
       " [0.02241987+0.04445047j]\n",
       " [0.02888286+0.05836861j]\n",
       " [0.02256842+0.04478963j]\n",
       " [0.02661959+0.05334214j]\n",
       " [0.02416627+0.04817916j]\n",
       " [0.02708873+0.05440485j]\n",
       " [0.02369414+0.04716762j]\n",
       " [0.03421497+0.07010181j]\n",
       " [0.02416413+0.04827719j]\n",
       " [0.03684834+0.07605326j]\n",
       " [0.02510746+0.05036627j]\n",
       " [0.02847345+0.05744131j]\n",
       " [0.0224651 +0.04457479j]\n",
       " [0.02989443+0.06061973j]\n",
       " [0.02273595+0.04518392j]\n",
       " [0.02290243+0.0454732j ]\n",
       " [0.0229576 +0.04563707j]\n",
       " [0.02350883+0.0467791j ]\n",
       " [0.02269689+0.04504237j]\n",
       " [0.02234262+0.04434022j]\n",
       " [0.02511289+0.05039067j]\n",
       " [0.02233805+0.04431737j]\n",
       " [0.0241826 +0.04832177j]\n",
       " [0.02776971+0.05587408j]\n",
       " [0.02418239+0.04814737j]\n",
       " [0.02940294+0.05945828j]\n",
       " [0.02467724+0.04920002j]\n",
       " [0.0233989 +0.04649525j]\n",
       " [0.02281561+0.04528687j]\n",
       " [0.02414606+0.04811194j]\n",
       " [0.02267816+0.0449643j ]\n",
       " [0.02926028+0.05913912j]\n",
       " [0.02258018+0.04482657j]\n",
       " [0.03099378+0.06299303j]\n",
       " [0.02306247+0.04588051j]\n",
       " [0.026129  +0.05234522j]\n",
       " [0.022561  +0.04480135j]\n",
       " [0.02697504+0.05421986j]\n",
       " [0.02244264+0.04454844j]\n",
       " [0.03946903+0.08157653j]\n",
       " [0.02662315+0.05352566j]\n",
       " [0.04307192+0.08974012j]\n",
       " [0.02805442+0.05668663j]\n",
       " [0.03056029+0.0619383j ]\n",
       " [0.02296182+0.04562033j]\n",
       " [0.03253516+0.06634216j]\n",
       " [0.02357763+0.04696959j]\n",
       " [0.02263135+0.0449474j ]\n",
       " [0.02788005+0.05633073j]\n",
       " [0.02232773+0.04426926j]\n",
       " [0.02650465+0.05326408j]\n",
       " [0.02615664+0.05262907j]\n",
       " [0.0359831 +0.07427418j]\n",
       " [0.02513935+0.05037445j]\n",
       " [0.03335313+0.06833084j]\n",
       " [0.02238503+0.04439172j]\n",
       " [0.02394939+0.0477547j ]\n",
       " [0.02279826+0.04527514j]\n",
       " [0.0234922 +0.04672784j]\n",
       " [0.02232484+0.04430616j]\n",
       " [0.02676527+0.05392514j]\n",
       " [0.02214399+0.04389862j]\n",
       " [0.02557744+0.05128219j]\n",
       " [0.02434433+0.04848834j]\n",
       " [0.02305322+0.04580854j]\n",
       " [0.02480831+0.04951375j]\n",
       " [0.0226298 +0.04488735j]\n",
       " [0.02571799+0.05144119j]\n",
       " [0.02727785+0.05494893j]\n",
       " [0.02553051+0.0510463j ]\n",
       " [0.02608873+0.05233561j]\n",
       " [0.02694622+0.05418432j]\n",
       " [0.02215832+0.04393077j]\n",
       " [0.02833353+0.05725877j]\n",
       " [0.0224539 +0.04457599j]\n",
       " [0.02457   +0.04901257j]\n",
       " [0.02263406+0.04494311j]\n",
       " [0.02517195+0.05034499j]\n",
       " [0.02233766+0.04430167j]]"
      ]
     },
     "execution_count": 339,
     "metadata": {},
     "output_type": "execute_result"
    }
   ],
   "source": [
    "Qobj(res.states[99]).unit()"
   ]
  },
  {
   "cell_type": "code",
   "execution_count": 340,
   "metadata": {
    "collapsed": false
   },
   "outputs": [
    {
     "data": {
      "text/plain": [
       "0.063504"
      ]
     },
     "execution_count": 340,
     "metadata": {},
     "output_type": "execute_result"
    }
   ],
   "source": [
    ".252*.252"
   ]
  },
  {
   "cell_type": "code",
   "execution_count": 341,
   "metadata": {
    "collapsed": false
   },
   "outputs": [
    {
     "name": "stdout",
     "output_type": "stream",
     "text": [
      "1.2241284465256445e-09\n",
      "1.963304205369259e-08\n",
      "3.209375052330743e-09\n",
      "2.1917666411084512e-08\n",
      "1.94074041350679e-09\n",
      "1.643397135361503e-05\n",
      "6.39550083652815e-11\n",
      "3.3461413222413853e-07\n",
      "3.059953436866955e-08\n",
      "1.0773579463449072e-08\n",
      "1.631700563339995e-06\n",
      "9.005277653255962e-08\n",
      "1.8667047889095417e-09\n",
      "6.6919918773233e-08\n",
      "2.632298197708584e-09\n",
      "9.046808645436535e-09\n",
      "4.214568924861313e-08\n",
      "3.941217064841539e-11\n",
      "2.1051104152758327e-07\n",
      "1.96108042048988e-10\n",
      "8.468907101084376e-09\n",
      "6.756538648768169e-09\n",
      "3.585936196372422e-08\n",
      "3.9392700790972966e-10\n",
      "2.5659581501142217e-05\n",
      "3.6094428797159154e-08\n",
      "1.7323304352173106e-05\n",
      "5.8113526071860404e-08\n",
      "4.645185785128136e-08\n",
      "5.35201069117081e-10\n",
      "7.463838599906815e-06\n",
      "6.690636568635571e-09\n",
      "2.4029889446217584e-08\n",
      "0.00017175864176929918\n",
      "1.1178059028707136e-08\n",
      "1.4661335669611668e-05\n",
      "6.113311616627858e-06\n",
      "0.00010015405733885513\n",
      "3.313844950627447e-08\n",
      "5.110667559885253e-05\n",
      "1.0055229542904084e-09\n",
      "4.56415975406842e-06\n",
      "6.828033521422087e-09\n",
      "1.5907759061977246e-07\n",
      "2.106487907093994e-08\n",
      "3.823747201470064e-05\n",
      "2.236503713781481e-09\n",
      "8.509063179157733e-06\n",
      "5.384914822436889e-10\n",
      "3.0404703747820926e-08\n",
      "4.497561564382445e-09\n",
      "6.861224442808978e-08\n",
      "3.8786062468599644e-08\n",
      "1.203048315664074e-05\n",
      "3.620743331305355e-08\n",
      "2.7770028992602563e-06\n",
      "5.007157099027458e-08\n",
      "1.10522236299202e-09\n",
      "1.530250672399376e-08\n",
      "4.68325149822814e-10\n",
      "4.0459080310401003e-10\n",
      "4.379232150358162e-08\n",
      "1.261986704341825e-08\n",
      "1.1899738684980078e-08\n",
      "7.6124773700553e-09\n",
      "3.294738850094121e-05\n",
      "2.0634381366650845e-09\n",
      "1.3156683777323946e-05\n",
      "3.588832111319334e-08\n",
      "5.3363729729059836e-05\n",
      "2.2698180440652212e-08\n",
      "0.00013301190328234176\n",
      "6.338161621748844e-08\n",
      "5.820868748053225e-06\n",
      "5.486356339321645e-09\n",
      "2.0872654271150474e-06\n",
      "1.893042062135788e-09\n",
      "2.416151682885392e-05\n",
      "1.5883328876163662e-09\n",
      "5.430974282534558e-06\n",
      "4.332385033019598e-09\n",
      "5.394614307307223e-09\n",
      "2.903937453824747e-08\n",
      "1.984732384194949e-09\n",
      "1.646216940591626e-08\n",
      "6.916035689633165e-08\n",
      "8.212951486505715e-09\n",
      "1.4647817118296355e-08\n",
      "1.0403435435917627e-07\n",
      "1.8984078358691373e-08\n",
      "8.459809454148557e-06\n",
      "1.9269701972418213e-08\n",
      "2.3175448082477594e-08\n",
      "1.1549002264801716e-10\n",
      "8.809195014010146e-09\n",
      "6.267863645901468e-10\n",
      "2.7318447909030154e-06\n",
      "0.00073518158484178\n",
      "2.37323780335273e-08\n",
      "8.454207099510413e-05\n",
      "8.122155507910491e-05\n",
      "0.7071050116513065\n",
      "7.802290856944146e-05\n",
      "0.001336511728951267\n",
      "2.691271152952102e-08\n",
      "0.00014121590000861945\n",
      "1.7825191640148108e-09\n",
      "3.8999327108724876e-05\n",
      "4.2183240245418705e-07\n",
      "8.547524424041879e-05\n",
      "3.8944481188157813e-08\n",
      "2.194301749940563e-05\n",
      "2.4330776041406146e-08\n",
      "1.5196861445176256e-05\n",
      "9.323993730568109e-10\n",
      "1.7251111649606495e-07\n",
      "7.301865234337741e-06\n",
      "0.00014730042419807134\n",
      "9.432657389735701e-08\n",
      "0.00019170199542048875\n",
      "1.8498076311321823e-11\n",
      "1.817391380673146e-08\n",
      "1.8508163420784376e-09\n",
      "7.982381110508502e-09\n",
      "5.776561813974489e-09\n",
      "2.8489632850640665e-06\n",
      "1.3039312847330158e-09\n",
      "1.162900365404567e-08\n",
      "1.1629003486878453e-08\n",
      "1.3039315478285284e-09\n",
      "2.8489632847330566e-06\n",
      "5.776561845199856e-09\n",
      "7.982380852137231e-09\n",
      "1.850816337037432e-09\n",
      "1.8173913848306488e-08\n",
      "1.849786849175169e-11\n",
      "0.00019170199542077767\n",
      "9.43265742548234e-08\n",
      "0.00014730042419821112\n",
      "7.301865234251028e-06\n",
      "1.725111164043667e-07\n",
      "9.323992390195066e-10\n",
      "1.519686144478522e-05\n",
      "2.433077610515532e-08\n",
      "2.1943017499705027e-05\n",
      "3.8944481112246066e-08\n",
      "8.547524423985148e-05\n",
      "4.218324022583352e-07\n",
      "3.899932710889439e-05\n",
      "1.7825189405560804e-09\n",
      "0.00014121590000840313\n",
      "2.6912711373344507e-08\n",
      "0.0013365117289514288\n",
      "7.802290856949538e-05\n",
      "0.7071050116513096\n",
      "8.122155507982659e-05\n",
      "8.454207099597805e-05\n",
      "2.373237808895014e-08\n",
      "0.0007351815848424322\n",
      "2.7318447905974766e-06\n",
      "6.267862889180115e-10\n",
      "8.809194484261078e-09\n",
      "1.1549031650690543e-10\n",
      "2.317544775483809e-08\n",
      "1.9269702121521965e-08\n",
      "8.459809454171017e-06\n",
      "1.8984078679300014e-08\n",
      "1.0403435460116282e-07\n",
      "1.4647817298506222e-08\n",
      "8.212951456778559e-09\n",
      "6.916035725020698e-08\n",
      "1.6462169040952825e-08\n",
      "1.984732632958254e-09\n",
      "2.903937440430926e-08\n",
      "5.394613942933395e-09\n",
      "4.332385246448097e-09\n",
      "5.430974282805335e-06\n",
      "1.588333541832309e-09\n",
      "2.4161516828861234e-05\n",
      "1.893041560540811e-09\n",
      "2.087265427182709e-06\n",
      "5.486356565068016e-09\n",
      "5.820868748006114e-06\n",
      "6.338161588743634e-08\n",
      "0.00013301190328244913\n",
      "2.2698180674932433e-08\n",
      "5.336372972882592e-05\n",
      "3.588832082894783e-08\n",
      "1.3156683776963138e-05\n",
      "2.0634380081882777e-09\n",
      "3.294738850082148e-05\n",
      "7.61247729433053e-09\n",
      "1.1899738802000457e-08\n",
      "1.2619866944483373e-08\n",
      "4.379232168993322e-08\n",
      "4.045906845899999e-10\n",
      "4.683251443638695e-10\n",
      "1.5302506944851908e-08\n",
      "1.1052222599610232e-09\n",
      "5.007157081606008e-08\n",
      "2.777002899030148e-06\n",
      "3.6207433986368163e-08\n",
      "1.2030483156658747e-05\n",
      "3.878606238309237e-08\n",
      "6.861224435393827e-08\n",
      "4.497561600368843e-09\n",
      "3.0404704121615023e-08\n",
      "5.38491713277836e-10\n",
      "8.509063179082404e-06\n",
      "2.2365037760345158e-09\n",
      "3.8237472014366056e-05\n",
      "2.106487875652344e-08\n",
      "1.5907759040174303e-07\n",
      "6.828033628732257e-09\n",
      "4.5641597539271465e-06\n",
      "1.0055231454109877e-09\n",
      "5.110667559836407e-05\n",
      "3.313844947867592e-08\n",
      "0.00010015405733815136\n",
      "6.1133116164077635e-06\n",
      "1.4661335669628502e-05\n",
      "1.1178059191017204e-08\n",
      "0.00017175864176934079\n",
      "2.4029889527277135e-08\n",
      "6.690636820100851e-09\n",
      "7.463838599409165e-06\n",
      "5.352010886744647e-10\n",
      "4.6451858104401806e-08\n",
      "5.811352605181852e-08\n",
      "1.7323304351639794e-05\n",
      "3.609442872704992e-08\n",
      "2.5659581501099662e-05\n",
      "3.9392731828033965e-10\n",
      "3.585936164798825e-08\n",
      "6.756538377592996e-09\n",
      "8.468907340477076e-09\n",
      "1.961079019456362e-10\n",
      "2.105110413126405e-07\n",
      "3.941190984865999e-11\n",
      "4.21456897263972e-08\n",
      "9.046808653529637e-09\n",
      "2.6322980806131793e-09\n",
      "6.691991858640522e-08\n",
      "1.866705017400266e-09\n",
      "9.005277645952314e-08\n",
      "1.6317005637670015e-06\n",
      "1.0773579138196697e-08\n",
      "3.059953453706236e-08\n",
      "3.346141320535568e-07\n",
      "6.395521797892755e-11\n",
      "1.6433971354131715e-05\n",
      "1.9407406888625907e-09\n",
      "2.1917666502064606e-08\n",
      "3.2093749511831437e-09\n",
      "1.9633042115268258e-08\n",
      "1.224128203434145e-09\n"
     ]
    }
   ],
   "source": [
    "probs = []\n",
    "for state in res.states[len(res.times)-1].unit():\n",
    "    norml = Qobj(state).full()[0][0]\n",
    "    print(np.absolute(norml))\n",
    "    probs.append(np.absolute(norml))\n",
    "    "
   ]
  },
  {
   "cell_type": "code",
   "execution_count": 342,
   "metadata": {
    "collapsed": false
   },
   "outputs": [
    {
     "data": {
      "text/plain": [
       "'1'"
      ]
     },
     "execution_count": 342,
     "metadata": {},
     "output_type": "execute_result"
    }
   ],
   "source": [
    "\"{0:b}\".format(1)"
   ]
  },
  {
   "cell_type": "code",
   "execution_count": 343,
   "metadata": {
    "collapsed": false
   },
   "outputs": [
    {
     "data": {
      "text/plain": [
       "[0, '1', '0', '1', '1', '0', '0', '1']"
      ]
     },
     "execution_count": 343,
     "metadata": {},
     "output_type": "execute_result"
    }
   ],
   "source": [
    "inp_str"
   ]
  },
  {
   "cell_type": "code",
   "execution_count": 344,
   "metadata": {
    "collapsed": false
   },
   "outputs": [],
   "source": [
    "inp_str = \"{0:b}\".format(np.argmax(probs))\n",
    "inp_str = list(inp_str)\n",
    "inp_str\n",
    "to_add = len(pts) - len(inp_str)"
   ]
  },
  {
   "cell_type": "code",
   "execution_count": 345,
   "metadata": {
    "collapsed": false
   },
   "outputs": [],
   "source": [
    "inp_str.reverse()\n",
    "for i in range(0, to_add):\n",
    "    inp_str.append(i)\n",
    "inp_str.reverse()"
   ]
  },
  {
   "cell_type": "code",
   "execution_count": 346,
   "metadata": {
    "collapsed": false
   },
   "outputs": [
    {
     "data": {
      "text/plain": [
       "8"
      ]
     },
     "execution_count": 346,
     "metadata": {},
     "output_type": "execute_result"
    }
   ],
   "source": [
    "len(pts)"
   ]
  },
  {
   "cell_type": "code",
   "execution_count": 347,
   "metadata": {
    "collapsed": false
   },
   "outputs": [
    {
     "data": {
      "image/png": "[encoded data removed]",
      "text/plain": [
       "<Figure size 432x288 with 1 Axes>"
      ]
     },
     "metadata": {},
     "output_type": "display_data"
    }
   ],
   "source": [
    "x_l = []\n",
    "y_l = []\n",
    "for j in range(0, len(pts)):\n",
    "    if inp_str[j] == '1':\n",
    "        plt.scatter([pts[str(j)][0]], [pts[str(j)][1]], color = 'r')\n",
    "    else:\n",
    "        plt.scatter([pts[str(j)][0]], [pts[str(j)][1]], color = 'b')\n",
    "    \n",
    "\n",
    "plt.show()"
   ]
  },
  {
   "cell_type": "code",
   "execution_count": null,
   "metadata": {
    "collapsed": true
   },
   "outputs": [],
   "source": []
  },
  {
   "cell_type": "code",
   "execution_count": null,
   "metadata": {
    "collapsed": true
   },
   "outputs": [],
   "source": []
  },
  {
   "cell_type": "code",
   "execution_count": null,
   "metadata": {
    "collapsed": true
   },
   "outputs": [],
   "source": []
  }
 ],
 "metadata": {
  "kernelspec": {
   "display_name": "Python 3",
   "language": "python",
   "name": "python3"
  },
  "language_info": {
   "codemirror_mode": {
    "name": "ipython",
    "version": 3
   },
   "file_extension": ".py",
   "mimetype": "text/x-python",
   "name": "python",
   "nbconvert_exporter": "python",
   "pygments_lexer": "ipython3",
   "version": "3.6.0"
  }
 },
 "nbformat": 4,
 "nbformat_minor": 2
}
